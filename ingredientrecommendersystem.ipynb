{
 "cells": [
  {
   "cell_type": "markdown",
   "id": "6fcee735",
   "metadata": {},
   "source": [
    "# Recipe and Ingredient Recommendation system"
   ]
  },
  {
   "cell_type": "code",
   "execution_count": null,
   "id": "ce082126",
   "metadata": {
    "ExecuteTime": {
     "end_time": "2022-12-22T12:27:24.152018Z",
     "start_time": "2022-12-22T12:27:22.406339Z"
    }
   },
   "outputs": [],
   "source": [
    "import numpy as np\n",
    "import pandas as pd\n",
    "import sklearn\n",
    "import matplotlib.pyplot as plt\n",
    "import seaborn as sns"
   ]
  },
  {
   "cell_type": "markdown",
   "id": "e3d83798",
   "metadata": {},
   "source": [
    "# Import dataset"
   ]
  },
  {
   "cell_type": "code",
   "execution_count": null,
   "id": "aee96ee6",
   "metadata": {
    "ExecuteTime": {
     "end_time": "2022-12-22T09:45:06.558278Z",
     "start_time": "2022-12-22T09:44:55.018092Z"
    },
    "scrolled": true
   },
   "outputs": [],
   "source": [
    "data = pd.read_csv('https://raw.githubusercontent.com/shaansubbaiah/allrecipes-scraper/main/export/scraped-07-05-21.csv')\n",
    "data.head()"
   ]
  },
  {
   "cell_type": "code",
   "execution_count": null,
   "id": "329b694a",
   "metadata": {
    "ExecuteTime": {
     "end_time": "2022-12-22T09:45:10.565726Z",
     "start_time": "2022-12-22T09:45:06.558278Z"
    }
   },
   "outputs": [],
   "source": [
    "import sys\n",
    "\n",
    "sys.path.insert(0, \"C:/Users/melen/Documents/DS Bootcamp/_functions_\")\n",
    "from Functions_EDA import *"
   ]
  },
  {
   "cell_type": "code",
   "execution_count": null,
   "id": "7eb5e3c2",
   "metadata": {
    "ExecuteTime": {
     "end_time": "2022-12-22T09:45:10.581957Z",
     "start_time": "2022-12-22T09:45:10.571926Z"
    }
   },
   "outputs": [],
   "source": [
    "data.columns"
   ]
  },
  {
   "cell_type": "code",
   "execution_count": null,
   "id": "d0e92d43",
   "metadata": {
    "ExecuteTime": {
     "end_time": "2022-12-22T09:45:10.677839Z",
     "start_time": "2022-12-22T09:45:10.581957Z"
    }
   },
   "outputs": [],
   "source": [
    "data.info()"
   ]
  },
  {
   "cell_type": "code",
   "execution_count": null,
   "id": "e37714d3",
   "metadata": {
    "ExecuteTime": {
     "end_time": "2022-12-22T09:45:10.774496Z",
     "start_time": "2022-12-22T09:45:10.677839Z"
    }
   },
   "outputs": [],
   "source": [
    "percentage_nullValues(data)"
   ]
  },
  {
   "cell_type": "code",
   "execution_count": null,
   "id": "91ae3501",
   "metadata": {
    "ExecuteTime": {
     "end_time": "2022-12-22T09:45:10.838548Z",
     "start_time": "2022-12-22T09:45:10.774496Z"
    }
   },
   "outputs": [],
   "source": [
    "data_ = data.copy()\n",
    "data_.head()"
   ]
  },
  {
   "cell_type": "code",
   "execution_count": null,
   "id": "f8745162",
   "metadata": {
    "ExecuteTime": {
     "end_time": "2022-12-22T09:45:10.862553Z",
     "start_time": "2022-12-22T09:45:10.838548Z"
    }
   },
   "outputs": [],
   "source": [
    "data_.columns"
   ]
  },
  {
   "cell_type": "code",
   "execution_count": null,
   "id": "c7be83d4",
   "metadata": {
    "ExecuteTime": {
     "end_time": "2022-12-22T09:45:10.942606Z",
     "start_time": "2022-12-22T09:45:10.862553Z"
    }
   },
   "outputs": [],
   "source": [
    "data_ = data_.drop(['calories', 'carbohydrates_g',\n",
    "       'sugars_g', 'fat_g', 'saturated_fat_g', 'cholesterol_mg', 'protein_g',\n",
    "       'dietary_fiber_g', 'sodium_mg', 'calories_from_fat', 'calcium_mg',\n",
    "       'iron_mg', 'magnesium_mg', 'potassium_mg', 'zinc_mg', 'phosphorus_mg',\n",
    "       'vitamin_a_iu_IU', 'niacin_equivalents_mg', 'vitamin_b6_mg',\n",
    "       'vitamin_c_mg', 'folate_mcg', 'thiamin_mg', 'riboflavin_mg',\n",
    "       'vitamin_e_iu_IU', 'vitamin_k_mcg', 'biotin_mcg', 'vitamin_b12_mcg',\n",
    "       'mono_fat_g', 'poly_fat_g', 'trans_fatty_acid_g',\n",
    "       'omega_3_fatty_acid_g', 'omega_6_fatty_acid_g'], axis=1)\n",
    "data_"
   ]
  },
  {
   "cell_type": "code",
   "execution_count": null,
   "id": "cd711878",
   "metadata": {
    "ExecuteTime": {
     "end_time": "2022-12-22T09:45:11.030919Z",
     "start_time": "2022-12-22T09:45:10.950629Z"
    }
   },
   "outputs": [],
   "source": [
    "percentage_nullValues(data_)"
   ]
  },
  {
   "cell_type": "code",
   "execution_count": null,
   "id": "6c8606c2",
   "metadata": {
    "ExecuteTime": {
     "end_time": "2022-12-22T09:45:11.062928Z",
     "start_time": "2022-12-22T09:45:11.030919Z"
    }
   },
   "outputs": [],
   "source": [
    "data_ = data_.drop([\"cook\",\"prep\",\"total\",\"author\"], axis=1)"
   ]
  },
  {
   "cell_type": "code",
   "execution_count": null,
   "id": "b445e014",
   "metadata": {
    "ExecuteTime": {
     "end_time": "2022-12-22T09:45:11.127023Z",
     "start_time": "2022-12-22T09:45:11.062928Z"
    }
   },
   "outputs": [],
   "source": [
    "percentage_nullValues(data_)"
   ]
  },
  {
   "cell_type": "markdown",
   "id": "3e691329",
   "metadata": {},
   "source": [
    "## Save dataset to csv"
   ]
  },
  {
   "cell_type": "code",
   "execution_count": null,
   "id": "8c68b514",
   "metadata": {
    "ExecuteTime": {
     "end_time": "2022-12-22T09:45:13.437332Z",
     "start_time": "2022-12-22T09:45:11.127023Z"
    }
   },
   "outputs": [],
   "source": [
    "data_.to_csv(\n",
    "    r\"C:\\Users\\melen\\Documents\\DS Bootcamp\\data_recipes.csv\",\n",
    "    index=None,\n",
    "    header=True)"
   ]
  },
  {
   "cell_type": "code",
   "execution_count": null,
   "id": "f4ab10e7",
   "metadata": {
    "ExecuteTime": {
     "end_time": "2022-12-22T09:45:14.703326Z",
     "start_time": "2022-12-22T09:45:13.437332Z"
    }
   },
   "outputs": [],
   "source": [
    "data_ = pd.read_csv(r\"C:\\Users\\melen\\Documents\\DS Bootcamp\\data_recipes.csv\")"
   ]
  },
  {
   "cell_type": "code",
   "execution_count": null,
   "id": "d1d961e3",
   "metadata": {
    "ExecuteTime": {
     "end_time": "2022-12-22T09:45:14.767494Z",
     "start_time": "2022-12-22T09:45:14.703326Z"
    }
   },
   "outputs": [],
   "source": [
    "data_.info()"
   ]
  },
  {
   "cell_type": "code",
   "execution_count": null,
   "id": "8c834fd7",
   "metadata": {
    "ExecuteTime": {
     "end_time": "2022-12-22T09:45:14.799483Z",
     "start_time": "2022-12-22T09:45:14.767494Z"
    }
   },
   "outputs": [],
   "source": [
    "data_.tail()"
   ]
  },
  {
   "cell_type": "markdown",
   "id": "af3d68d3",
   "metadata": {},
   "source": [
    "Checking duplicates - there are some dishes for which there are multiple recipes, however I will keep both. "
   ]
  },
  {
   "cell_type": "markdown",
   "id": "8ef26887",
   "metadata": {},
   "source": [
    "# EDA & Data Cleaning"
   ]
  },
  {
   "cell_type": "code",
   "execution_count": null,
   "id": "01f7797c",
   "metadata": {
    "ExecuteTime": {
     "end_time": "2022-12-22T09:45:16.257900Z",
     "start_time": "2022-12-22T09:45:14.799997Z"
    }
   },
   "outputs": [],
   "source": [
    "import sys\n",
    "\n",
    "sys.path.insert(0, \"C:/Users/melen/Documents/DS Bootcamp/_functions_\")\n",
    "from fx_NLP import *"
   ]
  },
  {
   "cell_type": "markdown",
   "id": "faa626da",
   "metadata": {},
   "source": [
    "## Name"
   ]
  },
  {
   "cell_type": "code",
   "execution_count": null,
   "id": "10fcb923",
   "metadata": {
    "ExecuteTime": {
     "end_time": "2022-12-22T09:45:16.289918Z",
     "start_time": "2022-12-22T09:45:16.257900Z"
    }
   },
   "outputs": [],
   "source": [
    "data_.name.duplicated().sum()"
   ]
  },
  {
   "cell_type": "code",
   "execution_count": null,
   "id": "3d90e856",
   "metadata": {
    "ExecuteTime": {
     "end_time": "2022-12-22T09:45:16.353927Z",
     "start_time": "2022-12-22T09:45:16.289918Z"
    }
   },
   "outputs": [],
   "source": [
    "data_.name.value_counts()"
   ]
  },
  {
   "cell_type": "code",
   "execution_count": null,
   "id": "884c46a2",
   "metadata": {
    "ExecuteTime": {
     "end_time": "2022-12-22T09:45:16.401998Z",
     "start_time": "2022-12-22T09:45:16.353927Z"
    }
   },
   "outputs": [],
   "source": [
    "data_[data_[\"name\"] == \"Roasted Cauliflower Soup\"]"
   ]
  },
  {
   "cell_type": "code",
   "execution_count": null,
   "id": "bdfe9f9a",
   "metadata": {
    "ExecuteTime": {
     "end_time": "2022-12-22T09:45:16.450504Z",
     "start_time": "2022-12-22T09:45:16.402513Z"
    }
   },
   "outputs": [],
   "source": [
    "data_[data_[\"name\"] == \"Turkey Sloppy Joes\"]"
   ]
  },
  {
   "cell_type": "code",
   "execution_count": null,
   "id": "db0f4a2c",
   "metadata": {
    "ExecuteTime": {
     "end_time": "2022-12-22T09:45:17.186410Z",
     "start_time": "2022-12-22T09:45:16.450504Z"
    }
   },
   "outputs": [],
   "source": [
    "from nltk.corpus import stopwords\n",
    "\n",
    "stop_words = stopwords.words('english')\n",
    "data_['name_cl'] = data_['name'].apply(lambda x: ' '.join([word for word in x.split() if word not in (stop_words)]))"
   ]
  },
  {
   "cell_type": "markdown",
   "id": "8f4cf6d7",
   "metadata": {},
   "source": [
    "## Category"
   ]
  },
  {
   "cell_type": "code",
   "execution_count": null,
   "id": "9f46acdc",
   "metadata": {
    "ExecuteTime": {
     "end_time": "2022-12-22T09:45:17.218450Z",
     "start_time": "2022-12-22T09:45:17.186410Z"
    }
   },
   "outputs": [],
   "source": [
    "data_.category.value_counts()"
   ]
  },
  {
   "cell_type": "markdown",
   "id": "6c1289d4",
   "metadata": {},
   "source": [
    "Replacing the two numerical values with \"uncategorized\""
   ]
  },
  {
   "cell_type": "code",
   "execution_count": null,
   "id": "3d71d1c1",
   "metadata": {
    "ExecuteTime": {
     "end_time": "2022-12-22T09:45:17.290587Z",
     "start_time": "2022-12-22T09:45:17.218450Z"
    }
   },
   "outputs": [],
   "source": [
    "data_[(data_[\"category\"] == \"515\") | (data_[\"category\"] == \"251\")]"
   ]
  },
  {
   "cell_type": "markdown",
   "id": "4fb93460",
   "metadata": {},
   "source": [
    "Changing the categories that include a few recipes to \"uncategorized\""
   ]
  },
  {
   "cell_type": "code",
   "execution_count": null,
   "id": "63e6e3d4",
   "metadata": {
    "ExecuteTime": {
     "end_time": "2022-12-22T09:45:17.354732Z",
     "start_time": "2022-12-22T09:45:17.290587Z"
    }
   },
   "outputs": [],
   "source": [
    "data_[\"category\"] = data_[\"category\"].str.replace(\"515\", \"uncategorized\")"
   ]
  },
  {
   "cell_type": "code",
   "execution_count": null,
   "id": "975bbad6",
   "metadata": {
    "ExecuteTime": {
     "end_time": "2022-12-22T09:45:17.386717Z",
     "start_time": "2022-12-22T09:45:17.354732Z"
    }
   },
   "outputs": [],
   "source": [
    "data_.category.value_counts()"
   ]
  },
  {
   "cell_type": "code",
   "execution_count": null,
   "id": "c6be93c0",
   "metadata": {
    "ExecuteTime": {
     "end_time": "2022-12-22T09:45:17.450784Z",
     "start_time": "2022-12-22T09:45:17.386717Z"
    }
   },
   "outputs": [],
   "source": [
    "data_[\"category\"] = data_[\"category\"].str.replace(\"251\", \"uncategorized\")"
   ]
  },
  {
   "cell_type": "code",
   "execution_count": null,
   "id": "6e1a5b7d",
   "metadata": {
    "ExecuteTime": {
     "end_time": "2022-12-22T09:45:17.499142Z",
     "start_time": "2022-12-22T09:45:17.466858Z"
    }
   },
   "outputs": [],
   "source": [
    "data_.category.value_counts()"
   ]
  },
  {
   "cell_type": "code",
   "execution_count": null,
   "id": "a6eb2c76",
   "metadata": {
    "ExecuteTime": {
     "end_time": "2022-12-22T09:45:17.546966Z",
     "start_time": "2022-12-22T09:45:17.499142Z"
    }
   },
   "outputs": [],
   "source": [
    "data_[\"category\"] = data_[\"category\"].str.replace(\"-\", \" \")"
   ]
  },
  {
   "cell_type": "code",
   "execution_count": null,
   "id": "90982418",
   "metadata": {
    "ExecuteTime": {
     "end_time": "2022-12-22T09:45:17.579219Z",
     "start_time": "2022-12-22T09:45:17.546966Z"
    }
   },
   "outputs": [],
   "source": [
    "data_.columns"
   ]
  },
  {
   "cell_type": "markdown",
   "id": "1fcc0316",
   "metadata": {},
   "source": [
    "## Yield"
   ]
  },
  {
   "cell_type": "code",
   "execution_count": null,
   "id": "71c7f596",
   "metadata": {
    "ExecuteTime": {
     "end_time": "2022-12-22T09:45:17.611083Z",
     "start_time": "2022-12-22T09:45:17.579219Z"
    }
   },
   "outputs": [],
   "source": [
    "data_[\"yield\"].value_counts().tail(25)"
   ]
  },
  {
   "cell_type": "code",
   "execution_count": null,
   "id": "be36ff39",
   "metadata": {
    "ExecuteTime": {
     "end_time": "2022-12-22T09:45:17.627096Z",
     "start_time": "2022-12-22T09:45:17.611083Z"
    }
   },
   "outputs": [],
   "source": [
    "data_[\"servings\"].value_counts().head(25)"
   ]
  },
  {
   "cell_type": "code",
   "execution_count": null,
   "id": "cc78adc1",
   "metadata": {
    "ExecuteTime": {
     "end_time": "2022-12-22T09:45:17.659134Z",
     "start_time": "2022-12-22T09:45:17.627096Z"
    }
   },
   "outputs": [],
   "source": [
    "data_[\"yield\"].value_counts().head(25)"
   ]
  },
  {
   "cell_type": "code",
   "execution_count": null,
   "id": "575fe127",
   "metadata": {
    "ExecuteTime": {
     "end_time": "2022-12-22T09:45:17.739120Z",
     "start_time": "2022-12-22T09:45:17.659134Z"
    }
   },
   "outputs": [],
   "source": [
    "data_[\"yield\"] = data_[\"yield\"].str.replace(\"- \", \" \")\n",
    "data_[\"yield\"].value_counts().tail(25)"
   ]
  },
  {
   "cell_type": "code",
   "execution_count": null,
   "id": "36aba288",
   "metadata": {
    "ExecuteTime": {
     "end_time": "2022-12-22T09:45:17.803234Z",
     "start_time": "2022-12-22T09:45:17.739120Z"
    }
   },
   "outputs": [],
   "source": [
    "data_[\"yield\"] = data_[\"yield\"].str.strip()\n",
    "data_[\"yield\"].value_counts().head(25)"
   ]
  },
  {
   "cell_type": "code",
   "execution_count": null,
   "id": "3cc5a916",
   "metadata": {
    "ExecuteTime": {
     "end_time": "2022-12-22T09:45:17.819253Z",
     "start_time": "2022-12-22T09:45:17.803234Z"
    }
   },
   "outputs": [],
   "source": [
    "data_.columns"
   ]
  },
  {
   "cell_type": "code",
   "execution_count": null,
   "id": "0c9992d9",
   "metadata": {
    "ExecuteTime": {
     "end_time": "2022-12-22T09:45:17.867438Z",
     "start_time": "2022-12-22T09:45:17.820287Z"
    }
   },
   "outputs": [],
   "source": [
    "data_[\"yield\"].str.contains(pat = \"sandwich\").value_counts()"
   ]
  },
  {
   "cell_type": "markdown",
   "id": "4e93d91f",
   "metadata": {},
   "source": [
    "Ingredients, Directions & Summary are all text values. Text cleaning and standardising to be applied."
   ]
  },
  {
   "cell_type": "markdown",
   "id": "6770ecd7",
   "metadata": {},
   "source": [
    "## Lemmatizer Function"
   ]
  },
  {
   "cell_type": "code",
   "execution_count": null,
   "id": "8d54ba77",
   "metadata": {
    "ExecuteTime": {
     "end_time": "2022-12-22T09:45:17.883526Z",
     "start_time": "2022-12-22T09:45:17.868472Z"
    }
   },
   "outputs": [],
   "source": [
    "# Import WordNetLemmatizer\n",
    "from nltk.stem import WordNetLemmatizer\n",
    "from nltk.tokenize import word_tokenize\n",
    "from nltk.corpus import stopwords\n",
    "# Import Counter\n",
    "from collections import Counter"
   ]
  },
  {
   "cell_type": "code",
   "execution_count": null,
   "id": "de1205a7",
   "metadata": {
    "ExecuteTime": {
     "end_time": "2022-12-22T09:45:17.899569Z",
     "start_time": "2022-12-22T09:45:17.883526Z"
    }
   },
   "outputs": [],
   "source": [
    "def lemmatizer_func(text, x):\n",
    "    # input is text and number of desired most common results\n",
    "    tokens = word_tokenize(text)\n",
    "    \n",
    "    # English Stop words\n",
    "    english_stops = set(stopwords.words('english'))\n",
    "    \n",
    "    # Convert the tokens into lowercase: lower_tokens\n",
    "    lower_tokens = [t.lower() for t in tokens]\n",
    "    \n",
    "    # Retain alphabetic words: alpha_only\n",
    "    alpha_only = [t for t in lower_tokens if t.isalpha()] \n",
    "    \n",
    "    # Remove all stop words: no_stops\n",
    "    no_stops = [t for t in alpha_only if t not in english_stops]\n",
    "    \n",
    "    # Instantiate the WordNetLemmatizer\n",
    "    wordnet_lemmatizer = WordNetLemmatizer()\n",
    "\n",
    "    # Lemmatize all tokens into a new list: lemmatized\n",
    "    lemmatized = [wordnet_lemmatizer.lemmatize(t) for t in no_stops]\n",
    "\n",
    "    # Create the bag-of-words: bow\n",
    "    bow = Counter(lemmatized)\n",
    "\n",
    "    # Print the 10 most common tokens\n",
    "    return (bow.most_common(x))"
   ]
  },
  {
   "cell_type": "markdown",
   "id": "d854c6c3",
   "metadata": {},
   "source": [
    "## Summary"
   ]
  },
  {
   "cell_type": "code",
   "execution_count": null,
   "id": "21994ff4",
   "metadata": {
    "ExecuteTime": {
     "end_time": "2022-12-22T09:45:17.915624Z",
     "start_time": "2022-12-22T09:45:17.900605Z"
    }
   },
   "outputs": [],
   "source": [
    "data_.summary.head()"
   ]
  },
  {
   "cell_type": "code",
   "execution_count": null,
   "id": "1512b1d3",
   "metadata": {
    "ExecuteTime": {
     "end_time": "2022-12-22T09:45:18.187918Z",
     "start_time": "2022-12-22T09:45:17.915624Z"
    }
   },
   "outputs": [],
   "source": [
    "text_summary = \". \".join(txt for txt in data_.summary.astype(str))\n",
    "text_summary"
   ]
  },
  {
   "cell_type": "code",
   "execution_count": null,
   "id": "e204a30d",
   "metadata": {
    "ExecuteTime": {
     "end_time": "2022-12-22T09:51:09.336852Z",
     "start_time": "2022-12-22T09:45:18.195915Z"
    }
   },
   "outputs": [],
   "source": [
    "top_100_summary = lemmatizer_func(text_summary,100)"
   ]
  },
  {
   "cell_type": "code",
   "execution_count": null,
   "id": "290ee1dd",
   "metadata": {
    "ExecuteTime": {
     "end_time": "2022-12-22T09:51:09.352296Z",
     "start_time": "2022-12-22T09:51:09.336852Z"
    }
   },
   "outputs": [],
   "source": [
    "stawp_words_summ = [\n",
    "    \"also\", \"recipe\", \"make\", \"like\", \"way\", \"hot\", \"warm\", \"really\", \"better\",\n",
    "    \"well\", \"little\", \"even\", \"get\",\"used\",\"try\",\"go\",\"using\",\"work\",\"rich\"\n",
    "]"
   ]
  },
  {
   "cell_type": "code",
   "execution_count": null,
   "id": "0c58df7f",
   "metadata": {
    "ExecuteTime": {
     "end_time": "2022-12-22T09:51:11.849879Z",
     "start_time": "2022-12-22T09:51:09.355338Z"
    }
   },
   "outputs": [],
   "source": [
    "text_summary_up = text_preprocessing_updated(text_summary,stawp_words_summ)"
   ]
  },
  {
   "cell_type": "markdown",
   "id": "60a6bcbb",
   "metadata": {},
   "source": [
    "### Top 100 key words used in summaries"
   ]
  },
  {
   "cell_type": "code",
   "execution_count": null,
   "id": "84a20e19",
   "metadata": {
    "ExecuteTime": {
     "end_time": "2022-12-22T09:51:18.552800Z",
     "start_time": "2022-12-22T09:51:11.849879Z"
    },
    "scrolled": true
   },
   "outputs": [],
   "source": [
    "top_100_summary = lemmatizer_func(text_summary_up,50)\n",
    "top_100_summary"
   ]
  },
  {
   "cell_type": "markdown",
   "id": "16b9fbbb",
   "metadata": {
    "ExecuteTime": {
     "start_time": "2022-12-13T17:19:20.489Z"
    }
   },
   "source": [
    "data_['summary_prep'] = data_['summary'].apply(lambda x: text_preprocessing(x, 'english'))\n",
    "data_"
   ]
  },
  {
   "cell_type": "markdown",
   "id": "b32c04a7",
   "metadata": {},
   "source": [
    "## Ingredients"
   ]
  },
  {
   "cell_type": "code",
   "execution_count": null,
   "id": "0829f987",
   "metadata": {
    "ExecuteTime": {
     "end_time": "2022-12-22T09:51:18.569034Z",
     "start_time": "2022-12-22T09:51:18.553028Z"
    }
   },
   "outputs": [],
   "source": [
    "data_.ingredients.head()"
   ]
  },
  {
   "cell_type": "code",
   "execution_count": null,
   "id": "60d44ead",
   "metadata": {
    "ExecuteTime": {
     "end_time": "2022-12-22T09:51:21.439103Z",
     "start_time": "2022-12-22T09:51:18.569034Z"
    }
   },
   "outputs": [],
   "source": [
    "replacers = {\n",
    "    \"\\u2009\": \"\",\n",
    "    \"[0-9]\": \" \",\n",
    "    \"  \": \" \",\n",
    "    \",\":\" \",\n",
    "    \"  \": \" \",\n",
    "    \"   \":\" \",\n",
    "    \"     \":\" \",\n",
    "    \" ; \":\"  \",\n",
    "    \"[$&+,:=?@#<>.^*()]\": \" \",\n",
    "    \"[¼½¾⅐⅑⅒⅓⅔⅕⅖⅗⅘⅙⅚⅛⅜⅝⅞↉]+\": \" \",\n",
    "    \" ;\" : \"; \",\n",
    "}\n",
    "\n",
    "data_[\"ingr_clean\"] = data_.ingredients.replace(replacers, regex=True).str.strip()"
   ]
  },
  {
   "cell_type": "code",
   "execution_count": null,
   "id": "dc25f30e",
   "metadata": {
    "ExecuteTime": {
     "end_time": "2022-12-22T09:51:22.752015Z",
     "start_time": "2022-12-22T09:51:21.439103Z"
    }
   },
   "outputs": [],
   "source": [
    "replacer = {\n",
    "    \"\\u2009\": \"\",\n",
    "    \"[$&+,:=?@#<>.^*()]\": \" \",\n",
    "    \"  \": \" \",\n",
    "    \" ; \":\"; \"\n",
    "}\n",
    "\n",
    "data_[\"ingr_results\"] = data_.ingredients.replace(replacer, regex=True).str.strip()"
   ]
  },
  {
   "cell_type": "code",
   "execution_count": null,
   "id": "25809e5c",
   "metadata": {
    "ExecuteTime": {
     "end_time": "2022-12-22T09:51:22.775927Z",
     "start_time": "2022-12-22T09:51:22.752015Z"
    }
   },
   "outputs": [],
   "source": [
    "data_[\"ingr_results\"].head()"
   ]
  },
  {
   "cell_type": "code",
   "execution_count": null,
   "id": "49052ba1",
   "metadata": {
    "ExecuteTime": {
     "end_time": "2022-12-22T09:51:22.792346Z",
     "start_time": "2022-12-22T09:51:22.776336Z"
    }
   },
   "outputs": [],
   "source": [
    "from nltk import pos_tag"
   ]
  },
  {
   "cell_type": "code",
   "execution_count": null,
   "id": "eecf58cc",
   "metadata": {
    "ExecuteTime": {
     "end_time": "2022-12-22T09:54:01.738136Z",
     "start_time": "2022-12-22T09:51:22.792346Z"
    }
   },
   "outputs": [],
   "source": [
    "data_['POS Tagged Text'] = data_['ingr_clean'].apply(lambda item:item.strip().split()).apply(pos_tag)\n",
    "data_['Just Nouns Text'] = data_['POS Tagged Text'].apply(lambda item:[w for w,t in item if t=='NN'])\n",
    "print(data_['Just Nouns Text'])"
   ]
  },
  {
   "cell_type": "code",
   "execution_count": null,
   "id": "3503a4fd",
   "metadata": {
    "ExecuteTime": {
     "end_time": "2022-12-22T09:54:02.011457Z",
     "start_time": "2022-12-22T09:54:01.754144Z"
    }
   },
   "outputs": [],
   "source": [
    "data_['liststring'] = data_['Just Nouns Text'].apply(lambda x: ', '.join(map(str, x)))\n",
    "data_['liststring'].head()"
   ]
  },
  {
   "cell_type": "code",
   "execution_count": null,
   "id": "c9239217",
   "metadata": {
    "ExecuteTime": {
     "end_time": "2022-12-22T09:54:02.044114Z",
     "start_time": "2022-12-22T09:54:02.011457Z"
    }
   },
   "outputs": [],
   "source": [
    "stawp_words_ingr = [\n",
    "    \"cups\", \"cup\", \"tablespoons\", \"teaspoon\", \"tablespoon\", \"ounce\", \"chopped\",\n",
    "    \"ground\", \"taste\", \"white\", \"fresh\", \"pound\", \"sliced\", \"package\",\n",
    "    \"packed\", \"pack\", \"minced\", \"diced\", \"red\", \"dried\", \"green\", \"large\",\n",
    "    \"cut\", \"shredded\", \"baking\", \"juice\", \"peeled\", \"extract\", \"drained\",\n",
    "    \"vanilla\", \"pinch\", \"optional\", \"grated\", \"brown\", \"finely\", \"divided\",\n",
    "    \"slice\", \"softened\", \"dry\", \"needed\", \"small\", \"large\", \"medium\", \"big\",\n",
    "    \"leaf\", \"piece\", \"frozen\", \"thinly\", \"melted\", \"mix\", \"freshly\", \"inch\",\n",
    "    \"beaten\", \"can\", \"boneless\", \"can\", \"hot\", \"allpurpose\", \"cans\", \"sliced\",\n",
    "    \"rinsed\", \"heavy\", \"spray\", \"seed\", \"cooking\", \"cubed\", \"rinsed\", \"thawed\",\n",
    "    \"italian\", \"package\", \"halved\", \"unsalted\", \"sweet\", \"cube\", \"sweet\",\n",
    "    \"breast\", \"half\", \"whole\", \"piece\", \"chip\", \"flake\", \"teaspoon\", \"powder\",\n",
    "    \"ounces\", \"slice\", \"bell\", \"crushed\", \"piece\", \"kosher\", \"bunch\",\n",
    "    \"crumbled\", \"stalk\", \"paste\", \"pitted\", \"teaspoons\", \"confectioner\", \"jar\",\n",
    "    \"soda\", \"deveined\", \"juiced\", \"cooked\", \"container\", \"unsweetened\",\n",
    "    \"sweet\", \"vegetable\", \"sour\", \"box\", \"sauce\", \"elbow\", \"butt\", \"sheet\",\n",
    "    \"temperature\", \"soup\", \"flake\", \"soup\", \"confectioner\", \"half\", \"head\",\n",
    "    \"condensed\", \"prepared\", \"fluid\", \"uncooked\", \"light\",\"frying\",\"food\",\"baby\"\n",
    "]"
   ]
  },
  {
   "cell_type": "code",
   "execution_count": null,
   "id": "9d3101c6",
   "metadata": {
    "ExecuteTime": {
     "end_time": "2022-12-22T09:54:18.807468Z",
     "start_time": "2022-12-22T09:54:02.044114Z"
    }
   },
   "outputs": [],
   "source": [
    "data_['ingr_cleaner'] = data_['liststring'].apply(lambda x : text_preprocessing_updated(x, stawp_words_ingr))\n",
    "data_['ingr_cleaner']"
   ]
  },
  {
   "cell_type": "code",
   "execution_count": null,
   "id": "778fe6ee",
   "metadata": {
    "ExecuteTime": {
     "end_time": "2022-12-22T09:54:18.823308Z",
     "start_time": "2022-12-22T09:54:18.807468Z"
    }
   },
   "outputs": [],
   "source": [
    "data_['ingr_cleaner'].head()"
   ]
  },
  {
   "cell_type": "code",
   "execution_count": null,
   "id": "9f4f7529",
   "metadata": {
    "ExecuteTime": {
     "end_time": "2022-12-22T09:54:18.858204Z",
     "start_time": "2022-12-22T09:54:18.825653Z"
    }
   },
   "outputs": [],
   "source": [
    "text_ingr = \"  \".join(txt for txt in data_.ingr_cleaner.astype(str))"
   ]
  },
  {
   "cell_type": "markdown",
   "id": "65ea8908",
   "metadata": {},
   "source": [
    "### Handling ngrams"
   ]
  },
  {
   "cell_type": "code",
   "execution_count": null,
   "id": "fd412df9",
   "metadata": {
    "ExecuteTime": {
     "end_time": "2022-12-22T09:54:21.170182Z",
     "start_time": "2022-12-22T09:54:18.858204Z"
    }
   },
   "outputs": [],
   "source": [
    "from nltk.util import ngrams\n",
    "\n",
    "n = 2\n",
    "sentence = text_ingr\n",
    "unigrams = ngrams(sentence.split(), n)\n",
    "\n",
    "for item in unigrams:\n",
    "    print(item)"
   ]
  },
  {
   "cell_type": "code",
   "execution_count": null,
   "id": "b8f2cf0c",
   "metadata": {
    "ExecuteTime": {
     "end_time": "2022-12-22T09:54:21.498966Z",
     "start_time": "2022-12-22T09:54:21.170182Z"
    }
   },
   "outputs": [],
   "source": [
    "from nltk import bigrams\n",
    "\n",
    "ingr_bigr = [x for x in data_['ingr_cleaner'] for x in bigrams(x.split())]\n",
    "c = Counter(ingr_bigr)\n",
    "\n",
    "top = c.most_common(100)\n",
    "print (*top)"
   ]
  },
  {
   "cell_type": "code",
   "execution_count": null,
   "id": "aa9d799f",
   "metadata": {
    "ExecuteTime": {
     "end_time": "2022-12-22T09:54:21.508120Z",
     "start_time": "2022-12-22T09:54:21.498966Z"
    }
   },
   "outputs": [],
   "source": [
    "top_dict = dict(top)"
   ]
  },
  {
   "cell_type": "code",
   "execution_count": null,
   "id": "56373d4c",
   "metadata": {
    "ExecuteTime": {
     "end_time": "2022-12-22T09:54:21.539372Z",
     "start_time": "2022-12-22T09:54:21.511241Z"
    }
   },
   "outputs": [],
   "source": [
    "df_dict = pd.DataFrame(list(top_dict.items()),columns = ['bigram','count']) \n",
    "df_dict"
   ]
  },
  {
   "cell_type": "code",
   "execution_count": null,
   "id": "2da4c2a4",
   "metadata": {
    "ExecuteTime": {
     "end_time": "2022-12-22T09:54:21.571381Z",
     "start_time": "2022-12-22T09:54:21.539372Z"
    }
   },
   "outputs": [],
   "source": [
    "ingr_bigr_df = pd.DataFrame.from_records(top, columns=['bigram', 'count'])\n",
    "ingr_bigr_df"
   ]
  },
  {
   "cell_type": "code",
   "execution_count": null,
   "id": "7210867c",
   "metadata": {
    "ExecuteTime": {
     "end_time": "2022-12-22T09:54:22.845192Z",
     "start_time": "2022-12-22T09:54:21.571381Z"
    }
   },
   "outputs": [],
   "source": [
    "import nltk\n",
    "from nltk.collocations import *\n",
    "bigram_assoc_measures = nltk.collocations.BigramAssocMeasures()\n",
    "\n",
    "text = text_ingr\n",
    "\n",
    "#1. Split text into words\n",
    "text = text.split()\n",
    "\n",
    "#2. Set minimum number of bigrams to extract and \n",
    "#of those how many to return\n",
    "minimum_number_of_bigrams = 2\n",
    "top_bigrams_to_return = 1\n",
    "\n",
    "#3. Get bigrams contained in text variable\n",
    "finder = BigramCollocationFinder.from_words(text)\n",
    "\n",
    "#4. Filter bigrams to those that appear at least twice\n",
    "finder.apply_freq_filter(minimum_number_of_bigrams) \n",
    "\n",
    "#5. Return one of the top bigrams\n",
    "finder.nbest(bigram_assoc_measures.pmi, 200)  "
   ]
  },
  {
   "cell_type": "code",
   "execution_count": null,
   "id": "b14ff097",
   "metadata": {
    "ExecuteTime": {
     "end_time": "2022-12-22T09:55:31.687994Z",
     "start_time": "2022-12-22T09:54:22.845705Z"
    }
   },
   "outputs": [],
   "source": [
    "from sklearn.feature_extraction.text import CountVectorizer\n",
    "\n",
    "word_vectorizer = CountVectorizer(ngram_range=(2, 3), analyzer='word')\n",
    "sparse_matrix = word_vectorizer.fit_transform(data_['ingr_cleaner'])\n",
    "frequencies = sum(sparse_matrix).toarray()[0]\n",
    "df_2 = pd.DataFrame(frequencies,\n",
    "             index=word_vectorizer.get_feature_names(),\n",
    "             columns=['frequency'])"
   ]
  },
  {
   "cell_type": "markdown",
   "id": "59dc4410",
   "metadata": {},
   "source": [
    "### Top 50 ngrams (2,3) - Ingredients"
   ]
  },
  {
   "cell_type": "code",
   "execution_count": null,
   "id": "a4c60ad6",
   "metadata": {
    "ExecuteTime": {
     "end_time": "2022-12-22T09:55:31.751040Z",
     "start_time": "2022-12-22T09:55:31.687994Z"
    }
   },
   "outputs": [],
   "source": [
    "ingr_ngram_df = df_2.sort_values(by=\"frequency\",ascending=False).head(50)\n",
    "ingr_ngram_df.reset_index(inplace=True)\n",
    "ingr_ngram_df = ingr_ngram_df.rename(columns = {\"index\":\"ingredients\"})\n",
    "ingr_ngram_df.head()"
   ]
  },
  {
   "cell_type": "markdown",
   "id": "bdcdb077",
   "metadata": {},
   "source": [
    "### Top 50 ngrams(3,5) - Recipe names"
   ]
  },
  {
   "cell_type": "code",
   "execution_count": null,
   "id": "996e1017",
   "metadata": {
    "ExecuteTime": {
     "end_time": "2022-12-22T09:56:11.072683Z",
     "start_time": "2022-12-22T09:55:31.751040Z"
    }
   },
   "outputs": [],
   "source": [
    "word_vectorizer = CountVectorizer(ngram_range=(3, 5), analyzer='word')\n",
    "sparse_matrix = word_vectorizer.fit_transform(data_['name_cl'])\n",
    "frequencies = sum(sparse_matrix).toarray()[0]\n",
    "df_3 = pd.DataFrame(frequencies,\n",
    "             index=word_vectorizer.get_feature_names(),\n",
    "             columns=['frequency'])"
   ]
  },
  {
   "cell_type": "code",
   "execution_count": null,
   "id": "056f969d",
   "metadata": {
    "ExecuteTime": {
     "end_time": "2022-12-22T09:56:11.121304Z",
     "start_time": "2022-12-22T09:56:11.072683Z"
    }
   },
   "outputs": [],
   "source": [
    "name_ngram_df = df_3.sort_values(by=\"frequency\",ascending=False).head(50)\n",
    "name_ngram_df.reset_index(inplace=True)\n",
    "name_ngram_df = name_ngram_df.rename(columns = {\"index\":\"recipe name\"})\n",
    "name_ngram_df.head(20)"
   ]
  },
  {
   "cell_type": "code",
   "execution_count": null,
   "id": "bacc65a6",
   "metadata": {},
   "outputs": [],
   "source": []
  },
  {
   "cell_type": "markdown",
   "id": "e7245cc1",
   "metadata": {},
   "source": [
    "### Lemmatize column"
   ]
  },
  {
   "cell_type": "code",
   "execution_count": null,
   "id": "c7e2eafb",
   "metadata": {
    "ExecuteTime": {
     "end_time": "2022-12-22T09:56:13.167210Z",
     "start_time": "2022-12-22T09:56:11.121304Z"
    }
   },
   "outputs": [],
   "source": [
    "import nltk\n",
    "\n",
    "w_tokenizer = nltk.tokenize.WhitespaceTokenizer()\n",
    "lemmatizer = nltk.stem.WordNetLemmatizer()\n",
    "\n",
    "def lemmatize_text(text):\n",
    "    return [lemmatizer.lemmatize(w) for w in w_tokenizer.tokenize(text)]\n",
    "\n",
    "data_['text_lemmatized'] = data_['ingr_cleaner'].apply(lemmatize_text)"
   ]
  },
  {
   "cell_type": "code",
   "execution_count": null,
   "id": "920b43a0",
   "metadata": {
    "ExecuteTime": {
     "end_time": "2022-12-22T09:56:13.209676Z",
     "start_time": "2022-12-22T09:56:13.167210Z"
    }
   },
   "outputs": [],
   "source": [
    "data_['text_lemmatized'].head()"
   ]
  },
  {
   "cell_type": "code",
   "execution_count": null,
   "id": "c2b61e45",
   "metadata": {
    "ExecuteTime": {
     "end_time": "2022-12-22T09:56:13.866871Z",
     "start_time": "2022-12-22T09:56:13.214106Z"
    }
   },
   "outputs": [],
   "source": [
    "pd.value_counts(np.hstack(data_['text_lemmatized'])).head(20)"
   ]
  },
  {
   "cell_type": "markdown",
   "id": "e2382b3a",
   "metadata": {},
   "source": [
    "### Top 50 ingredients"
   ]
  },
  {
   "cell_type": "code",
   "execution_count": null,
   "id": "83e057ba",
   "metadata": {
    "ExecuteTime": {
     "end_time": "2022-12-22T09:56:14.508212Z",
     "start_time": "2022-12-22T09:56:13.866871Z"
    },
    "scrolled": true
   },
   "outputs": [],
   "source": [
    "top_50_ingred = data_['ingr_cleaner'].str.split(' ').explode('Cast').value_counts().rename_axis('ingredients').reset_index(\n",
    "        name='counts').head(50)\n",
    "top_50_ingred"
   ]
  },
  {
   "cell_type": "code",
   "execution_count": null,
   "id": "d5063c5b",
   "metadata": {
    "ExecuteTime": {
     "end_time": "2022-12-22T09:56:14.741062Z",
     "start_time": "2022-12-22T09:56:14.508724Z"
    }
   },
   "outputs": [],
   "source": [
    "data_['ingr_cleaner'].str.split(' ').explode('Cast').value_counts().rename_axis('ingredients').reset_index(\n",
    "        name='counts').shape"
   ]
  },
  {
   "cell_type": "markdown",
   "id": "b9e9412d",
   "metadata": {},
   "source": [
    "## Directions"
   ]
  },
  {
   "cell_type": "code",
   "execution_count": null,
   "id": "231a1d6e",
   "metadata": {
    "ExecuteTime": {
     "end_time": "2022-12-22T09:56:14.765380Z",
     "start_time": "2022-12-22T09:56:14.741062Z"
    }
   },
   "outputs": [],
   "source": [
    "data_.directions"
   ]
  },
  {
   "cell_type": "code",
   "execution_count": null,
   "id": "7d3541f3",
   "metadata": {
    "ExecuteTime": {
     "end_time": "2022-12-22T09:56:15.486216Z",
     "start_time": "2022-12-22T09:56:14.765380Z"
    }
   },
   "outputs": [],
   "source": [
    "text_dir = \"  \".join(txt for txt in data_.directions.astype(str))\n",
    "text_dir"
   ]
  },
  {
   "cell_type": "markdown",
   "id": "2fa24061",
   "metadata": {
    "ExecuteTime": {
     "end_time": "2022-12-14T08:39:42.429015Z",
     "start_time": "2022-12-14T07:57:00.295434Z"
    }
   },
   "source": [
    "top_100_dir = lemmatizer_func(text_dir,100)\n",
    "top_100_dir"
   ]
  },
  {
   "cell_type": "markdown",
   "id": "a4616f55",
   "metadata": {},
   "source": [
    "## url"
   ]
  },
  {
   "cell_type": "code",
   "execution_count": null,
   "id": "8a796ed1",
   "metadata": {
    "ExecuteTime": {
     "end_time": "2022-12-22T09:56:15.518491Z",
     "start_time": "2022-12-22T09:56:15.486216Z"
    }
   },
   "outputs": [],
   "source": [
    "data_.url.head(20)"
   ]
  },
  {
   "cell_type": "markdown",
   "id": "9c6a222e",
   "metadata": {},
   "source": [
    "## Rating"
   ]
  },
  {
   "cell_type": "code",
   "execution_count": null,
   "id": "5a4c4b8b",
   "metadata": {
    "ExecuteTime": {
     "end_time": "2022-12-22T09:56:15.632169Z",
     "start_time": "2022-12-22T09:56:15.518491Z"
    }
   },
   "outputs": [],
   "source": [
    "data_.info()"
   ]
  },
  {
   "cell_type": "markdown",
   "id": "758a0a36",
   "metadata": {},
   "source": [
    "Replacing \"uncategorized\" with \"0.0\" and converting all values to float."
   ]
  },
  {
   "cell_type": "code",
   "execution_count": null,
   "id": "93eac34e",
   "metadata": {
    "ExecuteTime": {
     "end_time": "2022-12-22T09:56:15.648159Z",
     "start_time": "2022-12-22T09:56:15.632169Z"
    }
   },
   "outputs": [],
   "source": [
    "data_[\"rating\"].value_counts()"
   ]
  },
  {
   "cell_type": "code",
   "execution_count": null,
   "id": "4fbc526d",
   "metadata": {
    "ExecuteTime": {
     "end_time": "2022-12-22T09:56:15.680148Z",
     "start_time": "2022-12-22T09:56:15.648159Z"
    }
   },
   "outputs": [],
   "source": [
    "data_[\"rating\"].unique()"
   ]
  },
  {
   "cell_type": "code",
   "execution_count": null,
   "id": "a8ea4764",
   "metadata": {
    "ExecuteTime": {
     "end_time": "2022-12-22T09:56:15.700635Z",
     "start_time": "2022-12-22T09:56:15.680148Z"
    }
   },
   "outputs": [],
   "source": [
    "data_[\"rating\"]"
   ]
  },
  {
   "cell_type": "code",
   "execution_count": null,
   "id": "8f2b3478",
   "metadata": {
    "ExecuteTime": {
     "end_time": "2022-12-22T09:56:15.740676Z",
     "start_time": "2022-12-22T09:56:15.700635Z"
    }
   },
   "outputs": [],
   "source": [
    "data_[\"rating\"].unique()"
   ]
  },
  {
   "cell_type": "code",
   "execution_count": null,
   "id": "7ba38c28",
   "metadata": {
    "ExecuteTime": {
     "end_time": "2022-12-22T09:56:15.772703Z",
     "start_time": "2022-12-22T09:56:15.740676Z"
    }
   },
   "outputs": [],
   "source": [
    "data_[\"rating\"] = data_[\"rating\"].astype(\"float\")\n",
    "data_[\"rating\"]"
   ]
  },
  {
   "cell_type": "code",
   "execution_count": null,
   "id": "839e7369",
   "metadata": {
    "ExecuteTime": {
     "end_time": "2022-12-22T09:56:15.901053Z",
     "start_time": "2022-12-22T09:56:15.772703Z"
    }
   },
   "outputs": [],
   "source": [
    "data_.info()"
   ]
  },
  {
   "cell_type": "markdown",
   "id": "ff82b70f",
   "metadata": {},
   "source": [
    "## Rating count"
   ]
  },
  {
   "cell_type": "code",
   "execution_count": null,
   "id": "d40b0104",
   "metadata": {
    "ExecuteTime": {
     "end_time": "2022-12-22T09:56:15.949791Z",
     "start_time": "2022-12-22T09:56:15.933376Z"
    }
   },
   "outputs": [],
   "source": [
    "data_.rating_count.value_counts()"
   ]
  },
  {
   "cell_type": "code",
   "execution_count": null,
   "id": "025fa471",
   "metadata": {
    "ExecuteTime": {
     "end_time": "2022-12-22T09:56:15.965828Z",
     "start_time": "2022-12-22T09:56:15.949791Z"
    }
   },
   "outputs": [],
   "source": [
    "data_.rating_count.unique()"
   ]
  },
  {
   "cell_type": "code",
   "execution_count": null,
   "id": "1781752b",
   "metadata": {
    "ExecuteTime": {
     "end_time": "2022-12-22T09:56:15.981820Z",
     "start_time": "2022-12-22T09:56:15.965828Z"
    }
   },
   "outputs": [],
   "source": [
    "data_[\"rating_count\"] = data_[\"rating_count\"].astype(\"int\")\n",
    "data_[\"rating_count\"]"
   ]
  },
  {
   "cell_type": "code",
   "execution_count": null,
   "id": "25d37980",
   "metadata": {
    "ExecuteTime": {
     "end_time": "2022-12-22T09:56:16.093908Z",
     "start_time": "2022-12-22T09:56:15.981820Z"
    }
   },
   "outputs": [],
   "source": [
    "data_.info()"
   ]
  },
  {
   "cell_type": "markdown",
   "id": "c3c6d023",
   "metadata": {},
   "source": [
    "## Review count"
   ]
  },
  {
   "cell_type": "code",
   "execution_count": null,
   "id": "b2ec4e4d",
   "metadata": {
    "ExecuteTime": {
     "end_time": "2022-12-22T09:56:16.109867Z",
     "start_time": "2022-12-22T09:56:16.093908Z"
    }
   },
   "outputs": [],
   "source": [
    "data_.review_count.value_counts()"
   ]
  },
  {
   "cell_type": "code",
   "execution_count": null,
   "id": "ce6db686",
   "metadata": {
    "ExecuteTime": {
     "end_time": "2022-12-22T09:56:16.142546Z",
     "start_time": "2022-12-22T09:56:16.109867Z"
    }
   },
   "outputs": [],
   "source": [
    "data_[\"review_count\"] = data_[\"review_count\"].astype(\"int\")\n",
    "data_[\"review_count\"]"
   ]
  },
  {
   "cell_type": "markdown",
   "id": "57bdd5a8",
   "metadata": {},
   "source": [
    "## Servings"
   ]
  },
  {
   "cell_type": "code",
   "execution_count": null,
   "id": "52cf5995",
   "metadata": {
    "ExecuteTime": {
     "end_time": "2022-12-22T09:56:16.174548Z",
     "start_time": "2022-12-22T09:56:16.142546Z"
    }
   },
   "outputs": [],
   "source": [
    "data_[\"servings\"] = data_[\"servings\"].astype(\"int\")\n",
    "data_[\"servings\"]"
   ]
  },
  {
   "cell_type": "code",
   "execution_count": null,
   "id": "97b329fb",
   "metadata": {
    "ExecuteTime": {
     "end_time": "2022-12-22T09:56:16.304714Z",
     "start_time": "2022-12-22T09:56:16.174548Z"
    }
   },
   "outputs": [],
   "source": [
    "data_.info()"
   ]
  },
  {
   "cell_type": "code",
   "execution_count": null,
   "id": "e986a275",
   "metadata": {
    "ExecuteTime": {
     "end_time": "2022-12-22T09:56:16.336719Z",
     "start_time": "2022-12-22T09:56:16.304714Z"
    }
   },
   "outputs": [],
   "source": [
    "data_.category.value_counts()"
   ]
  },
  {
   "cell_type": "markdown",
   "id": "4988ff95",
   "metadata": {},
   "source": [
    "## Save clean dataset to csv"
   ]
  },
  {
   "cell_type": "code",
   "execution_count": null,
   "id": "062c848c",
   "metadata": {
    "ExecuteTime": {
     "end_time": "2022-12-22T10:07:15.649862Z",
     "start_time": "2022-12-22T10:07:11.288420Z"
    }
   },
   "outputs": [],
   "source": [
    "data_.to_csv(\n",
    "    r\"C:\\Users\\melen\\Documents\\DS Bootcamp\\data_recipes_clean.csv\",\n",
    "    index=None,\n",
    "    header=True)"
   ]
  },
  {
   "cell_type": "code",
   "execution_count": null,
   "id": "6a133636",
   "metadata": {
    "ExecuteTime": {
     "end_time": "2022-12-22T14:32:55.547020Z",
     "start_time": "2022-12-22T14:32:53.683345Z"
    }
   },
   "outputs": [],
   "source": [
    "data_ = pd.read_csv(\n",
    "    r\"C:\\Users\\melen\\Documents\\DS Bootcamp\\data_recipes_clean.csv\"\n",
    ")"
   ]
  },
  {
   "cell_type": "markdown",
   "id": "9e2179bc",
   "metadata": {},
   "source": [
    "# Problem understanding"
   ]
  },
  {
   "cell_type": "markdown",
   "id": "54f10f35",
   "metadata": {},
   "source": [
    "## What type of data science problem is this?"
   ]
  },
  {
   "cell_type": "markdown",
   "id": "6792c9f6",
   "metadata": {},
   "source": [
    "- What do we need to learn about the data?\n",
    "- What type of exploratory data analysis do we need to conduct?\n",
    "- Where is our data coming from?\n",
    "- What is the current state of our data?\n",
    "- Is this a supervised or unsupervised learning problem?\n",
    "- Is this a regression, classification, or clustering problem?\n",
    "- What biases could our data contain?\n",
    "- What type of data cleaning do we need to do?\n",
    "- What type of feature engineering could be useful?\n",
    "- What algorithms or types of models have been proven to solve similar problems well?\n",
    "- What evaluation metric are we using for our model?\n",
    "- What is our training and testing plan?\n",
    "- How can we tweak the model to make it more accurate, increase the ROC/AUC, decrease log-loss, etc. ?\n",
    "- Have we optimized the various parameters of the algorithm? Try grid search here."
   ]
  },
  {
   "cell_type": "markdown",
   "id": "2ef429cc",
   "metadata": {},
   "source": [
    "By conducting a preliminary EDA to each of the labels that are relevant to the project, I learned what information the data offers and how it's structured. The data was in good state and didn't require much cleaning. \n",
    "\n",
    "The aim of this project is to create a recommender system for recipes. The data comes from one source (allrecipes.com), therefore it doesn't offer a variety of options and may be biased. \n",
    "\n",
    "Some of the labels had some minor data inconsistencies, which I have been able to address. In terms of feature engineering, I will have to encode all categorical values. These represent the biggest part of the data as they include the recipe name, the ingredients, the summary and the instructions. \n",
    "\n",
    "The following are the **primary goals** of this project:\n",
    "\n",
    "1) Create a filter to find recipes by ingredients\n",
    "\n",
    "2) Produce a model capable of recommending recipes based on other recipes"
   ]
  },
  {
   "cell_type": "code",
   "execution_count": null,
   "id": "d8650283",
   "metadata": {
    "ExecuteTime": {
     "end_time": "2022-12-22T09:56:26.952056Z",
     "start_time": "2022-12-22T09:56:26.904040Z"
    }
   },
   "outputs": [],
   "source": [
    "data_.head()"
   ]
  },
  {
   "cell_type": "code",
   "execution_count": null,
   "id": "68030763",
   "metadata": {
    "ExecuteTime": {
     "end_time": "2022-12-22T09:56:27.048136Z",
     "start_time": "2022-12-22T09:56:26.952056Z"
    }
   },
   "outputs": [],
   "source": [
    "data_.info()"
   ]
  },
  {
   "cell_type": "markdown",
   "id": "4dd82af3",
   "metadata": {},
   "source": [
    "# Data Visualisation"
   ]
  },
  {
   "cell_type": "markdown",
   "id": "241cc257",
   "metadata": {},
   "source": [
    "## Recipe names - wordcloud"
   ]
  },
  {
   "cell_type": "code",
   "execution_count": null,
   "id": "6998c591",
   "metadata": {
    "ExecuteTime": {
     "end_time": "2022-12-22T09:56:27.064147Z",
     "start_time": "2022-12-22T09:56:27.048136Z"
    }
   },
   "outputs": [],
   "source": [
    "#!pip install wordcloud"
   ]
  },
  {
   "cell_type": "code",
   "execution_count": null,
   "id": "9f1b9b62",
   "metadata": {
    "ExecuteTime": {
     "end_time": "2022-12-22T09:56:27.144239Z",
     "start_time": "2022-12-22T09:56:27.064147Z"
    }
   },
   "outputs": [],
   "source": [
    "from wordcloud import WordCloud"
   ]
  },
  {
   "cell_type": "code",
   "execution_count": null,
   "id": "872c88a2",
   "metadata": {
    "ExecuteTime": {
     "end_time": "2022-12-22T09:56:27.160224Z",
     "start_time": "2022-12-22T09:56:27.144239Z"
    }
   },
   "outputs": [],
   "source": [
    "data_.name.head()"
   ]
  },
  {
   "cell_type": "code",
   "execution_count": null,
   "id": "12ce0f5c",
   "metadata": {
    "ExecuteTime": {
     "end_time": "2022-12-22T09:56:27.176242Z",
     "start_time": "2022-12-22T09:56:27.160224Z"
    }
   },
   "outputs": [],
   "source": [
    "recipes = data_['name_cl']"
   ]
  },
  {
   "cell_type": "code",
   "execution_count": null,
   "id": "a4e11845",
   "metadata": {
    "ExecuteTime": {
     "end_time": "2022-12-22T09:56:31.900721Z",
     "start_time": "2022-12-22T09:56:27.176242Z"
    }
   },
   "outputs": [],
   "source": [
    "word_cloud = WordCloud(background_color='white', width=600,\n",
    "                       height=400).generate(\" \".join(recipes))\n",
    "\n",
    "plt.imshow(word_cloud, interpolation='bilinear')\n",
    "plt.axis(\"off\")\n",
    "plt.show()"
   ]
  },
  {
   "cell_type": "code",
   "execution_count": null,
   "id": "57ae9dc6",
   "metadata": {
    "ExecuteTime": {
     "end_time": "2022-12-22T09:56:31.916725Z",
     "start_time": "2022-12-22T09:56:31.900721Z"
    }
   },
   "outputs": [],
   "source": [
    "from PIL import Image"
   ]
  },
  {
   "cell_type": "code",
   "execution_count": null,
   "id": "417beec5",
   "metadata": {
    "ExecuteTime": {
     "end_time": "2022-12-22T09:56:32.236863Z",
     "start_time": "2022-12-22T09:56:31.916725Z"
    }
   },
   "outputs": [],
   "source": [
    "import requests"
   ]
  },
  {
   "cell_type": "code",
   "execution_count": null,
   "id": "e2b2efe7",
   "metadata": {
    "ExecuteTime": {
     "end_time": "2022-12-22T09:56:32.821343Z",
     "start_time": "2022-12-22T09:56:32.236863Z"
    }
   },
   "outputs": [],
   "source": [
    "book =  np.array(Image.open(\"book.png\"))\n",
    "plt.imshow(book)"
   ]
  },
  {
   "cell_type": "code",
   "execution_count": null,
   "id": "e6d7f9bc",
   "metadata": {
    "ExecuteTime": {
     "end_time": "2022-12-22T09:56:35.311495Z",
     "start_time": "2022-12-22T09:56:32.821343Z"
    }
   },
   "outputs": [],
   "source": [
    "wordcloud = WordCloud(width=3000,\n",
    "                      height=2000,\n",
    "                      random_state=1,\n",
    "                      background_color='white',\n",
    "                      colormap='Set2',\n",
    "                      collocations=False,\n",
    "                      mask=book).generate(\" \".join(recipes))"
   ]
  },
  {
   "cell_type": "code",
   "execution_count": null,
   "id": "f59fb6ff",
   "metadata": {
    "ExecuteTime": {
     "end_time": "2022-12-22T09:56:39.291407Z",
     "start_time": "2022-12-22T09:56:35.311495Z"
    }
   },
   "outputs": [],
   "source": [
    "plt.figure(figsize=(25, 50))\n",
    "\n",
    "word_cloud = WordCloud(background_color=\"#f9cfd0\",\n",
    "                       colormap='Set2',\n",
    "                       collocations=False,\n",
    "                       width=900,\n",
    "                       height=450,\n",
    "                       max_font_size=150).generate(\" \".join(recipes))\n",
    "\n",
    "plt.imshow(word_cloud, interpolation='bilinear')\n",
    "plt.axis(\"off\")\n",
    "plt.show()"
   ]
  },
  {
   "cell_type": "markdown",
   "id": "8ea5f827",
   "metadata": {},
   "source": [
    "## Categories - bar plot"
   ]
  },
  {
   "cell_type": "code",
   "execution_count": null,
   "id": "3ce22868",
   "metadata": {
    "ExecuteTime": {
     "end_time": "2022-12-22T09:56:39.307437Z",
     "start_time": "2022-12-22T09:56:39.291407Z"
    }
   },
   "outputs": [],
   "source": [
    "data_.columns"
   ]
  },
  {
   "cell_type": "code",
   "execution_count": null,
   "id": "3971a825",
   "metadata": {
    "ExecuteTime": {
     "end_time": "2022-12-22T09:56:39.339483Z",
     "start_time": "2022-12-22T09:56:39.307437Z"
    }
   },
   "outputs": [],
   "source": [
    "data_.category.value_counts()"
   ]
  },
  {
   "cell_type": "code",
   "execution_count": null,
   "id": "d89cebe6",
   "metadata": {
    "ExecuteTime": {
     "end_time": "2022-12-22T09:56:39.371516Z",
     "start_time": "2022-12-22T09:56:39.339483Z"
    }
   },
   "outputs": [],
   "source": [
    "categories = data_.category.value_counts().rename_axis('unique_values').reset_index(name='counts')\n",
    "categories"
   ]
  },
  {
   "cell_type": "code",
   "execution_count": null,
   "id": "7c214a35",
   "metadata": {
    "ExecuteTime": {
     "end_time": "2022-12-22T09:56:39.908251Z",
     "start_time": "2022-12-22T09:56:39.371516Z"
    }
   },
   "outputs": [],
   "source": [
    "categories.plot(kind=\"bar\")\n",
    "plt.show()"
   ]
  },
  {
   "cell_type": "code",
   "execution_count": null,
   "id": "3845c060",
   "metadata": {
    "ExecuteTime": {
     "end_time": "2022-12-22T09:56:39.924254Z",
     "start_time": "2022-12-22T09:56:39.908251Z"
    }
   },
   "outputs": [],
   "source": [
    "x_axis = categories.counts\n",
    "y_axis = categories[\"unique_values\"]\n",
    "y_axis"
   ]
  },
  {
   "cell_type": "code",
   "execution_count": null,
   "id": "0a96408e",
   "metadata": {
    "ExecuteTime": {
     "end_time": "2022-12-22T09:56:39.940259Z",
     "start_time": "2022-12-22T09:56:39.924254Z"
    }
   },
   "outputs": [],
   "source": [
    "x_axis"
   ]
  },
  {
   "cell_type": "code",
   "execution_count": null,
   "id": "0e5cda60",
   "metadata": {
    "ExecuteTime": {
     "end_time": "2022-12-22T09:56:40.420942Z",
     "start_time": "2022-12-22T09:56:39.940259Z"
    }
   },
   "outputs": [],
   "source": [
    "plt.barh(y_axis, x_axis)\n",
    "plt.title('Categories')\n",
    "plt.show()"
   ]
  },
  {
   "cell_type": "code",
   "execution_count": null,
   "id": "e2d9dc3c",
   "metadata": {
    "ExecuteTime": {
     "end_time": "2022-12-22T09:56:40.437112Z",
     "start_time": "2022-12-22T09:56:40.420942Z"
    }
   },
   "outputs": [],
   "source": [
    "import plotly.graph_objs as go\n",
    "import plotly.express as px\n",
    "import matplotlib.pyplot as plt"
   ]
  },
  {
   "cell_type": "code",
   "execution_count": null,
   "id": "f1e19fc9",
   "metadata": {
    "ExecuteTime": {
     "end_time": "2022-12-22T09:56:40.565342Z",
     "start_time": "2022-12-22T09:56:40.437112Z"
    },
    "scrolled": false
   },
   "outputs": [],
   "source": [
    "food_cat = [\n",
    "    go.Bar(\n",
    "        y= categories.counts,\n",
    "        x= categories[\"unique_values\"],\n",
    "        marker=dict(colorscale='Jet', color=\"#206638\")\n",
    "    )\n",
    "]\n",
    "\n",
    "layout = go.Layout(\n",
    "    title='Recipe Categories',\n",
    "    paper_bgcolor='rgba(0,0,0,0)',\n",
    "    plot_bgcolor='rgba(0,0,0,0)',\n",
    "    bargap=0.05)\n",
    "\n",
    "fig = go.Figure(data=food_cat, layout=layout)\n",
    "fig.update_layout(title_x=0.5)"
   ]
  },
  {
   "cell_type": "code",
   "execution_count": null,
   "id": "ab71f1d4",
   "metadata": {
    "ExecuteTime": {
     "end_time": "2022-12-22T09:56:40.581349Z",
     "start_time": "2022-12-22T09:56:40.565342Z"
    }
   },
   "outputs": [],
   "source": [
    "categories.counts"
   ]
  },
  {
   "cell_type": "markdown",
   "id": "cf1b70a8",
   "metadata": {},
   "source": [
    "### Bar Plt"
   ]
  },
  {
   "cell_type": "code",
   "execution_count": null,
   "id": "b14193b4",
   "metadata": {
    "ExecuteTime": {
     "end_time": "2022-12-22T09:56:43.817228Z",
     "start_time": "2022-12-22T09:56:40.581349Z"
    },
    "scrolled": false
   },
   "outputs": [],
   "source": [
    "fig, ax = plt.subplots(figsize=(50, 30))\n",
    "\n",
    "sns.set_color_codes(\"muted\")\n",
    "\n",
    "sns.barplot(y=categories.counts, x=categories[\"unique_values\"],\n",
    "\n",
    "data= categories)\n",
    "plt.tick_params(axis='both', which='major', labelsize=35)\n",
    "plt.xticks(rotation=70)\n",
    "plt.savefig(\"filename.png\", transparent=True)"
   ]
  },
  {
   "cell_type": "markdown",
   "id": "22081d67",
   "metadata": {},
   "source": [
    "## Summary "
   ]
  },
  {
   "cell_type": "code",
   "execution_count": null,
   "id": "3678f6aa",
   "metadata": {
    "ExecuteTime": {
     "end_time": "2022-12-22T09:56:43.833243Z",
     "start_time": "2022-12-22T09:56:43.817228Z"
    }
   },
   "outputs": [],
   "source": [
    "data_.columns"
   ]
  },
  {
   "cell_type": "code",
   "execution_count": null,
   "id": "9de6c2c4",
   "metadata": {
    "ExecuteTime": {
     "end_time": "2022-12-22T09:56:43.865313Z",
     "start_time": "2022-12-22T09:56:43.833243Z"
    }
   },
   "outputs": [],
   "source": [
    "summary = data_.summary.to_list()\n",
    "type(summary)"
   ]
  },
  {
   "cell_type": "code",
   "execution_count": null,
   "id": "50bc5127",
   "metadata": {
    "ExecuteTime": {
     "end_time": "2022-12-22T09:56:46.754866Z",
     "start_time": "2022-12-22T09:56:43.865313Z"
    }
   },
   "outputs": [],
   "source": [
    "all_words = data_['summary'].str.split(expand=True).unstack().value_counts()"
   ]
  },
  {
   "cell_type": "code",
   "execution_count": null,
   "id": "0f8de811",
   "metadata": {
    "ExecuteTime": {
     "end_time": "2022-12-22T09:56:46.787002Z",
     "start_time": "2022-12-22T09:56:46.755377Z"
    }
   },
   "outputs": [],
   "source": [
    "import matplotlib.pyplot as plt \n",
    "#!pip install pip\n",
    "#!pip install matplotlib"
   ]
  },
  {
   "cell_type": "code",
   "execution_count": null,
   "id": "1f616d1a",
   "metadata": {
    "ExecuteTime": {
     "end_time": "2022-12-22T09:56:48.251759Z",
     "start_time": "2022-12-22T09:56:46.787002Z"
    }
   },
   "outputs": [],
   "source": [
    "data = [go.Bar(\n",
    "            x = all_words.index.values[2:50],\n",
    "            y = all_words.values[2:50],\n",
    "            marker= dict(colorscale='Jet',\n",
    "                         color = all_words.values[2:100]\n",
    "                        ))]\n",
    "\n",
    "layout = go.Layout(\n",
    "    title='Recipe Summary - Top 50 Words'\n",
    ")\n",
    "\n",
    "fig = go.Figure(data=data, layout=layout)\n",
    "\n",
    "py.iplot(fig, filename='basic-bar')"
   ]
  },
  {
   "cell_type": "code",
   "execution_count": null,
   "id": "3ebda155",
   "metadata": {
    "ExecuteTime": {
     "end_time": "2022-12-22T09:56:48.331893Z",
     "start_time": "2022-12-22T09:56:48.252269Z"
    }
   },
   "outputs": [],
   "source": [
    "sorted_rating = data_.sort_values(by=['rating'], ascending=False).head(100)\n",
    "sorted_rating"
   ]
  },
  {
   "cell_type": "code",
   "execution_count": null,
   "id": "882dafe1",
   "metadata": {
    "ExecuteTime": {
     "end_time": "2022-12-22T09:56:48.363932Z",
     "start_time": "2022-12-22T09:56:48.331893Z"
    }
   },
   "outputs": [],
   "source": [
    "text = \" \".join(txt for txt in sorted_rating.summary.astype(str))\n",
    "text"
   ]
  },
  {
   "cell_type": "code",
   "execution_count": null,
   "id": "346229a9",
   "metadata": {
    "ExecuteTime": {
     "end_time": "2022-12-22T09:56:50.540762Z",
     "start_time": "2022-12-22T09:56:48.363932Z"
    }
   },
   "outputs": [],
   "source": [
    "word_cloud = WordCloud(background_color='white', \n",
    "                       colormap='Set2',      \n",
    "                       width=600,\n",
    "                       height=400).generate(text)\n",
    "\n",
    "plt.imshow(word_cloud, interpolation='bilinear')\n",
    "plt.axis(\"off\")\n",
    "plt.title('Top 100 Recipes - Summary');\n",
    "plt.show()"
   ]
  },
  {
   "cell_type": "markdown",
   "id": "2e72c45e",
   "metadata": {},
   "source": [
    "## Rating"
   ]
  },
  {
   "cell_type": "code",
   "execution_count": null,
   "id": "edfbfea1",
   "metadata": {
    "ExecuteTime": {
     "end_time": "2022-12-22T09:56:50.564756Z",
     "start_time": "2022-12-22T09:56:50.540762Z"
    }
   },
   "outputs": [],
   "source": [
    "data_.rating.head()"
   ]
  },
  {
   "cell_type": "code",
   "execution_count": null,
   "id": "e1f8cdc4",
   "metadata": {
    "ExecuteTime": {
     "end_time": "2022-12-22T09:56:50.596792Z",
     "start_time": "2022-12-22T09:56:50.564756Z"
    }
   },
   "outputs": [],
   "source": [
    "sorted_rating_count = data_[[\"rating\",\"rating_count\"]].sort_values(by=['rating'], ascending=False)\n",
    "sorted_rating_count.head()"
   ]
  },
  {
   "cell_type": "code",
   "execution_count": null,
   "id": "9fcdb9fd",
   "metadata": {
    "ExecuteTime": {
     "end_time": "2022-12-22T09:56:50.628844Z",
     "start_time": "2022-12-22T09:56:50.596792Z"
    }
   },
   "outputs": [],
   "source": [
    "sorted_rating_count = data_[[\"rating\",\"rating_count\"]].sort_values(by=['rating'], ascending=False).astype(\"int\")\n",
    "sorted_rating_count.head()"
   ]
  },
  {
   "cell_type": "code",
   "execution_count": null,
   "id": "0759f3ab",
   "metadata": {
    "ExecuteTime": {
     "end_time": "2022-12-22T09:56:50.853632Z",
     "start_time": "2022-12-22T09:56:50.628844Z"
    }
   },
   "outputs": [],
   "source": [
    "fig = px.pie(sorted_rating_count,\n",
    "             values=\"rating_count\",\n",
    "             names=\"rating\")\n",
    "fig.show()"
   ]
  },
  {
   "cell_type": "code",
   "execution_count": null,
   "id": "383bfa0e",
   "metadata": {
    "ExecuteTime": {
     "end_time": "2022-12-22T09:58:06.484964Z",
     "start_time": "2022-12-22T09:56:50.853632Z"
    }
   },
   "outputs": [],
   "source": [
    "fig = plt.figure(figsize = (10, 5))\n",
    " \n",
    "# creating the bar plot\n",
    "plt.bar(sorted_rating_count.rating, sorted_rating_count.rating_count, color ='maroon',\n",
    "        width = 0.4)\n",
    "\n",
    "plt.show()"
   ]
  },
  {
   "cell_type": "code",
   "execution_count": null,
   "id": "04943e07",
   "metadata": {
    "ExecuteTime": {
     "end_time": "2022-12-22T09:58:07.517494Z",
     "start_time": "2022-12-22T09:58:06.484964Z"
    }
   },
   "outputs": [],
   "source": [
    "fig = sns.barplot(x=\"rating\", y=\"rating_count\", data= sorted_rating_count, palette='pastel',edgecolor=\"none\",linewidth=0)\n",
    "plt.xlabel(\"Rating\")\n",
    "plt.margins(x=0.03)\n",
    "plt.ylabel(\"Rating Count\")\n",
    "plt.savefig(\"rating.png\", transparent=True)"
   ]
  },
  {
   "cell_type": "code",
   "execution_count": null,
   "id": "4cc18879",
   "metadata": {
    "ExecuteTime": {
     "end_time": "2022-12-22T09:58:07.533482Z",
     "start_time": "2022-12-22T09:58:07.517494Z"
    }
   },
   "outputs": [],
   "source": [
    "# Rating by recipe type? "
   ]
  },
  {
   "cell_type": "markdown",
   "id": "02716593",
   "metadata": {},
   "source": [
    "## Ingredients"
   ]
  },
  {
   "cell_type": "code",
   "execution_count": null,
   "id": "deb98ba8",
   "metadata": {
    "ExecuteTime": {
     "end_time": "2022-12-22T09:58:11.359264Z",
     "start_time": "2022-12-22T09:58:07.533482Z"
    },
    "scrolled": false
   },
   "outputs": [],
   "source": [
    "fig, ax = plt.subplots(figsize=(50, 30))\n",
    "\n",
    "sns.set_color_codes(\"muted\")\n",
    "\n",
    "splot = sns.barplot(x=\"ingredients\", y=\"counts\", data= top_50_ingred).set(title='50 Most Used Ingredients')\n",
    "plt.xticks(rotation=70)\n",
    "plt.tick_params(axis='both', which='major', labelsize=35)\n",
    "plt.savefig(\"ingredients.png\", transparent=True)"
   ]
  },
  {
   "cell_type": "code",
   "execution_count": null,
   "id": "0f6ba2b2",
   "metadata": {
    "ExecuteTime": {
     "end_time": "2022-12-22T09:58:12.280187Z",
     "start_time": "2022-12-22T09:58:11.359264Z"
    }
   },
   "outputs": [],
   "source": [
    "fig, ax = plt.subplots(figsize=(10, 20))\n",
    "\n",
    "sns.set_color_codes(\"muted\")\n",
    "\n",
    "sns.barplot(y=\"ingredients\", x=\"frequency\",\n",
    "\n",
    "data= ingr_ngram_df,\n",
    "\n",
    "orient = \"h\").set(title='50 Most Used Ingredients')"
   ]
  },
  {
   "cell_type": "markdown",
   "id": "5a93ebc2",
   "metadata": {},
   "source": [
    "## Reviews + Rating"
   ]
  },
  {
   "cell_type": "code",
   "execution_count": null,
   "id": "75bf9f05",
   "metadata": {
    "ExecuteTime": {
     "end_time": "2022-12-22T09:58:12.319850Z",
     "start_time": "2022-12-22T09:58:12.280187Z"
    }
   },
   "outputs": [],
   "source": [
    "most_popular = data_[[\"name\",\"review_count\",\"rating\"]].sort_values(by=['review_count'], ascending=False)"
   ]
  },
  {
   "cell_type": "code",
   "execution_count": null,
   "id": "12147c5a",
   "metadata": {
    "ExecuteTime": {
     "end_time": "2022-12-22T09:58:12.351835Z",
     "start_time": "2022-12-22T09:58:12.319850Z"
    }
   },
   "outputs": [],
   "source": [
    "most_popular.shape"
   ]
  },
  {
   "cell_type": "code",
   "execution_count": null,
   "id": "1116d136",
   "metadata": {
    "ExecuteTime": {
     "end_time": "2022-12-22T09:58:12.383843Z",
     "start_time": "2022-12-22T09:58:12.351835Z"
    }
   },
   "outputs": [],
   "source": [
    "most_popular = most_popular.loc[most_popular['review_count'] > 50]\n",
    "most_popular = most_popular.loc[most_popular['rating'] > 3.5]"
   ]
  },
  {
   "cell_type": "code",
   "execution_count": null,
   "id": "02c64b05",
   "metadata": {
    "ExecuteTime": {
     "end_time": "2022-12-22T09:58:12.399844Z",
     "start_time": "2022-12-22T09:58:12.383843Z"
    }
   },
   "outputs": [],
   "source": [
    "#rating vs. number of ratings"
   ]
  },
  {
   "cell_type": "code",
   "execution_count": null,
   "id": "769e15d5",
   "metadata": {
    "ExecuteTime": {
     "end_time": "2022-12-22T09:58:12.695575Z",
     "start_time": "2022-12-22T09:58:12.399844Z"
    }
   },
   "outputs": [],
   "source": [
    "fig = px.scatter(most_popular,\n",
    "                 y=\"review_count\",\n",
    "                 x=\"rating\",\n",
    "                 size=\"review_count\",\n",
    "                 color=\"rating\",\n",
    "                 log_x=True,\n",
    "                 size_max=20,\n",
    "                 labels={\n",
    "                     \"review_count\": \"Number of Reviews\",\n",
    "                     \"rating\": \"Rating\"\n",
    "                 })\n",
    "\n",
    "fig.update_layout({\n",
    "    \"plot_bgcolor\": \"rgba(0, 0, 0, 0)\",\n",
    "    \"paper_bgcolor\": \"rgba(0, 0, 0, 0)\",\n",
    "})\n",
    "\n",
    "fig.update_layout(title_text='Review Count vs Rating', title_x=0.5)\n",
    "\n",
    "fig.show()\n",
    "\n",
    "#Are the most reviewed recipes the highest rated?"
   ]
  },
  {
   "cell_type": "code",
   "execution_count": null,
   "id": "c04cec4c",
   "metadata": {
    "ExecuteTime": {
     "end_time": "2022-12-22T09:58:12.743947Z",
     "start_time": "2022-12-22T09:58:12.695575Z"
    }
   },
   "outputs": [],
   "source": [
    "data_.head()"
   ]
  },
  {
   "cell_type": "markdown",
   "id": "80fa45a4",
   "metadata": {},
   "source": [
    "## Filtered Dataframe"
   ]
  },
  {
   "cell_type": "code",
   "execution_count": null,
   "id": "4e618d9e",
   "metadata": {
    "ExecuteTime": {
     "end_time": "2022-12-22T09:58:12.759950Z",
     "start_time": "2022-12-22T09:58:12.743947Z"
    }
   },
   "outputs": [],
   "source": [
    "data_['ingr_cleaner'].isnull().sum()"
   ]
  },
  {
   "cell_type": "code",
   "execution_count": null,
   "id": "38883c88",
   "metadata": {
    "ExecuteTime": {
     "end_time": "2022-12-22T09:58:12.807983Z",
     "start_time": "2022-12-22T09:58:12.759950Z"
    }
   },
   "outputs": [],
   "source": [
    "filtered_df = data_[data_['ingr_cleaner'].notnull()]"
   ]
  },
  {
   "cell_type": "code",
   "execution_count": null,
   "id": "3be76830",
   "metadata": {
    "ExecuteTime": {
     "end_time": "2022-12-22T09:58:12.839996Z",
     "start_time": "2022-12-22T09:58:12.807983Z"
    }
   },
   "outputs": [],
   "source": [
    "filtered_df.head(1)"
   ]
  },
  {
   "cell_type": "code",
   "execution_count": null,
   "id": "ec0f89aa",
   "metadata": {
    "ExecuteTime": {
     "end_time": "2022-12-22T09:58:12.888038Z",
     "start_time": "2022-12-22T09:58:12.839996Z"
    }
   },
   "outputs": [],
   "source": [
    "filtered_df = filtered_df.reset_index(drop=True)\n",
    "filtered_df.head(2)"
   ]
  },
  {
   "cell_type": "code",
   "execution_count": null,
   "id": "6b4a5e11",
   "metadata": {
    "ExecuteTime": {
     "end_time": "2022-12-22T09:58:12.904046Z",
     "start_time": "2022-12-22T09:58:12.888038Z"
    }
   },
   "outputs": [],
   "source": [
    "filtered_df.columns"
   ]
  },
  {
   "cell_type": "code",
   "execution_count": null,
   "id": "d764c76c",
   "metadata": {
    "ExecuteTime": {
     "end_time": "2022-12-22T09:58:12.936057Z",
     "start_time": "2022-12-22T09:58:12.904046Z"
    }
   },
   "outputs": [],
   "source": [
    "filtered_df = filtered_df.drop(['name_cl',\n",
    "                               'ingr_clean',\n",
    "                               'POS Tagged Text',\n",
    "                               'Just Nouns Text',\n",
    "                               'liststring',\n",
    "                               'ingr_cleaner',\n",
    "                               'text_lemmatized',\n",
    "                               \"ingredients\",\n",
    "                               \"summary\"],\n",
    "                               axis=1)"
   ]
  },
  {
   "cell_type": "code",
   "execution_count": null,
   "id": "b1a5d0dd",
   "metadata": {
    "ExecuteTime": {
     "end_time": "2022-12-22T09:58:12.952076Z",
     "start_time": "2022-12-22T09:58:12.936057Z"
    }
   },
   "outputs": [],
   "source": [
    "filtered_df.columns"
   ]
  },
  {
   "cell_type": "code",
   "execution_count": null,
   "id": "9691fb7a",
   "metadata": {
    "ExecuteTime": {
     "end_time": "2022-12-22T09:58:13.000087Z",
     "start_time": "2022-12-22T09:58:12.952076Z"
    }
   },
   "outputs": [],
   "source": [
    "filtered_df_ord = filtered_df[[\n",
    "    \"category\", \"name\", \"ingr_results\", 'servings', 'yield', 'directions',\n",
    "    'rating', 'rating_count', 'review_count','url']]\n",
    "filtered_df_ord.columns = [\n",
    "    \"Category\", \"Recipe Name\", \"Ingredients\", 'Servings', 'Yield', 'Directions',\n",
    "    'Rating', 'Rating Count', 'Review Count','URL']\n",
    "filtered_df_ord"
   ]
  },
  {
   "cell_type": "code",
   "execution_count": null,
   "id": "e3dd9d0b",
   "metadata": {
    "ExecuteTime": {
     "end_time": "2022-12-22T09:58:13.064110Z",
     "start_time": "2022-12-22T09:58:13.000087Z"
    }
   },
   "outputs": [],
   "source": [
    "filtered_df_ord[filtered_df_ord['Category'].str.contains(\"snack\")]"
   ]
  },
  {
   "cell_type": "code",
   "execution_count": null,
   "id": "181de785",
   "metadata": {
    "ExecuteTime": {
     "end_time": "2022-12-22T09:58:13.128152Z",
     "start_time": "2022-12-22T09:58:13.064110Z"
    }
   },
   "outputs": [],
   "source": [
    "filtered_df_ord[filtered_df_ord['Recipe Name'].str.contains(\"Auber\")]"
   ]
  },
  {
   "cell_type": "markdown",
   "id": "6ca562fa",
   "metadata": {},
   "source": [
    "# KNN"
   ]
  },
  {
   "cell_type": "markdown",
   "id": "110e802a",
   "metadata": {},
   "source": [
    "## Vectorising Ingredients & Creating a sparse_matrix"
   ]
  },
  {
   "cell_type": "code",
   "execution_count": null,
   "id": "d4c03d32",
   "metadata": {
    "ExecuteTime": {
     "end_time": "2022-12-22T09:58:13.144164Z",
     "start_time": "2022-12-22T09:58:13.128152Z"
    }
   },
   "outputs": [],
   "source": [
    "from sklearn.feature_extraction.text import TfidfVectorizer, CountVectorizer\n",
    "from sklearn import metrics"
   ]
  },
  {
   "cell_type": "code",
   "execution_count": null,
   "id": "58a29e44",
   "metadata": {
    "ExecuteTime": {
     "end_time": "2022-12-22T09:58:13.728062Z",
     "start_time": "2022-12-22T09:58:13.144164Z"
    }
   },
   "outputs": [],
   "source": [
    "tfidf = TfidfVectorizer()\n",
    "\n",
    "sparse_matrix = tfidf.fit_transform(data_[\"ingr_cleaner\"].values.astype('U'))\n",
    "\n",
    "sparse_matrix"
   ]
  },
  {
   "cell_type": "code",
   "execution_count": null,
   "id": "5824902b",
   "metadata": {
    "ExecuteTime": {
     "end_time": "2022-12-22T09:58:13.936120Z",
     "start_time": "2022-12-22T09:58:13.728062Z"
    }
   },
   "outputs": [],
   "source": [
    "sparse_matrix.todense()[100]"
   ]
  },
  {
   "cell_type": "code",
   "execution_count": null,
   "id": "388f88c2",
   "metadata": {
    "ExecuteTime": {
     "end_time": "2022-12-22T09:58:13.968012Z",
     "start_time": "2022-12-22T09:58:13.936120Z"
    }
   },
   "outputs": [],
   "source": [
    "recipe_to_assess = sparse_matrix[666]\n",
    "recipe_to_assess"
   ]
  },
  {
   "cell_type": "markdown",
   "id": "8edda065",
   "metadata": {},
   "source": [
    "### DF from sparse_matrix"
   ]
  },
  {
   "cell_type": "code",
   "execution_count": null,
   "id": "716890ac",
   "metadata": {
    "ExecuteTime": {
     "end_time": "2022-12-22T09:58:13.984011Z",
     "start_time": "2022-12-22T09:58:13.968012Z"
    }
   },
   "outputs": [],
   "source": [
    "sparse_matrix"
   ]
  },
  {
   "cell_type": "code",
   "execution_count": null,
   "id": "be555f66",
   "metadata": {
    "ExecuteTime": {
     "end_time": "2022-12-22T09:58:15.137522Z",
     "start_time": "2022-12-22T09:58:13.984011Z"
    }
   },
   "outputs": [],
   "source": [
    "doc_term_matrix = sparse_matrix.todense()\n",
    "df_ = pd.DataFrame(doc_term_matrix, columns=tfidf.get_feature_names())\n",
    "df_"
   ]
  },
  {
   "cell_type": "code",
   "execution_count": null,
   "id": "4a0df34d",
   "metadata": {
    "ExecuteTime": {
     "end_time": "2022-12-22T09:58:23.133901Z",
     "start_time": "2022-12-22T09:58:15.137522Z"
    }
   },
   "outputs": [],
   "source": [
    "from sklearn.metrics.pairwise import cosine_similarity\n",
    "similarity = cosine_similarity(df_.T, df_.T)"
   ]
  },
  {
   "cell_type": "markdown",
   "id": "ab29bbfa",
   "metadata": {},
   "source": [
    "### Compute Cosine Similarity"
   ]
  },
  {
   "cell_type": "code",
   "execution_count": null,
   "id": "8a9aba35",
   "metadata": {
    "ExecuteTime": {
     "end_time": "2022-12-22T09:58:23.181950Z",
     "start_time": "2022-12-22T09:58:23.133901Z"
    }
   },
   "outputs": [],
   "source": [
    "sim_df = pd.DataFrame(similarity, columns = tfidf.get_feature_names(), \n",
    "                      index = tfidf.get_feature_names()) \n",
    "sim_df"
   ]
  },
  {
   "cell_type": "code",
   "execution_count": null,
   "id": "8624aeb0",
   "metadata": {
    "ExecuteTime": {
     "end_time": "2022-12-22T09:58:23.213951Z",
     "start_time": "2022-12-22T09:58:23.181950Z"
    }
   },
   "outputs": [],
   "source": [
    "sim_df.loc['zucchini',:].reset_index().sort_values(by=\"zucchini\",ascending=False).head(5)"
   ]
  },
  {
   "cell_type": "code",
   "execution_count": null,
   "id": "1b597576",
   "metadata": {
    "ExecuteTime": {
     "end_time": "2022-12-22T09:58:23.246016Z",
     "start_time": "2022-12-22T09:58:23.213951Z"
    }
   },
   "outputs": [],
   "source": [
    "tomato_df = sim_df.loc['tomato',:].reset_index()\n",
    "tomato_df.sort_values(by= tomato_df.columns[1], ascending= False).head(5)"
   ]
  },
  {
   "cell_type": "markdown",
   "id": "cb4d65a0",
   "metadata": {},
   "source": [
    "## KNN Model #0"
   ]
  },
  {
   "cell_type": "code",
   "execution_count": null,
   "id": "637b01f1",
   "metadata": {
    "ExecuteTime": {
     "end_time": "2022-12-22T09:58:23.342044Z",
     "start_time": "2022-12-22T09:58:23.246016Z"
    }
   },
   "outputs": [],
   "source": [
    "from sklearn.neighbors import NearestNeighbors\n",
    "\n",
    "kNN = NearestNeighbors(n_neighbors=6, metric='cosine')\n",
    "kNN\n",
    "kNN.fit(sparse_matrix)"
   ]
  },
  {
   "cell_type": "code",
   "execution_count": null,
   "id": "1ec379ba",
   "metadata": {
    "ExecuteTime": {
     "end_time": "2022-12-22T09:58:23.374052Z",
     "start_time": "2022-12-22T09:58:23.342044Z"
    }
   },
   "outputs": [],
   "source": [
    "neighbour = kNN.kneighbors(recipe_to_assess,\n",
    "                           return_distance=False)"
   ]
  },
  {
   "cell_type": "code",
   "execution_count": null,
   "id": "4de711cf",
   "metadata": {
    "ExecuteTime": {
     "end_time": "2022-12-22T09:58:23.390068Z",
     "start_time": "2022-12-22T09:58:23.374052Z"
    }
   },
   "outputs": [],
   "source": [
    "neighbour"
   ]
  },
  {
   "cell_type": "code",
   "execution_count": null,
   "id": "acb1948c",
   "metadata": {
    "ExecuteTime": {
     "end_time": "2022-12-22T09:58:23.422076Z",
     "start_time": "2022-12-22T09:58:23.390068Z"
    }
   },
   "outputs": [],
   "source": [
    "data_.loc[666,'name']"
   ]
  },
  {
   "cell_type": "code",
   "execution_count": null,
   "id": "7b661a44",
   "metadata": {
    "ExecuteTime": {
     "end_time": "2022-12-22T09:58:23.438071Z",
     "start_time": "2022-12-22T09:58:23.422076Z"
    }
   },
   "outputs": [],
   "source": [
    "data_.loc[5112, \"ingredients\"]"
   ]
  },
  {
   "cell_type": "code",
   "execution_count": null,
   "id": "070d070a",
   "metadata": {
    "ExecuteTime": {
     "end_time": "2022-12-22T09:58:23.454075Z",
     "start_time": "2022-12-22T09:58:23.438071Z"
    }
   },
   "outputs": [],
   "source": [
    "data_.loc[neighbour[0], \"ingredients\"]"
   ]
  },
  {
   "cell_type": "code",
   "execution_count": null,
   "id": "21d8b742",
   "metadata": {
    "ExecuteTime": {
     "end_time": "2022-12-22T09:58:23.470089Z",
     "start_time": "2022-12-22T09:58:23.454075Z"
    }
   },
   "outputs": [],
   "source": [
    "data_.loc[neighbour[0],'name']"
   ]
  },
  {
   "cell_type": "markdown",
   "id": "127cdc65",
   "metadata": {},
   "source": [
    "### First recommendation!"
   ]
  },
  {
   "cell_type": "code",
   "execution_count": null,
   "id": "71bd2823",
   "metadata": {
    "ExecuteTime": {
     "end_time": "2022-12-22T09:58:23.486082Z",
     "start_time": "2022-12-22T09:58:23.470089Z"
    }
   },
   "outputs": [],
   "source": [
    "print(\"If you like {}, you should try:\\n\\n{}\".format(\n",
    "    (data_.loc[666, 'name']),\n",
    "    (data_.loc[neighbour[0], 'name'])))"
   ]
  },
  {
   "cell_type": "markdown",
   "id": "a9ef21ab",
   "metadata": {
    "ExecuteTime": {
     "end_time": "2022-12-15T13:40:17.859968Z",
     "start_time": "2022-12-15T13:40:17.828369Z"
    }
   },
   "source": [
    "## KNN Model #1"
   ]
  },
  {
   "cell_type": "code",
   "execution_count": null,
   "id": "7f0a4a05",
   "metadata": {
    "ExecuteTime": {
     "end_time": "2022-12-22T09:58:23.502085Z",
     "start_time": "2022-12-22T09:58:23.486082Z"
    }
   },
   "outputs": [],
   "source": [
    "kNN = NearestNeighbors(n_neighbors=4, metric='cosine')\n",
    "kNN\n",
    "kNN.fit(sparse_matrix)"
   ]
  },
  {
   "cell_type": "code",
   "execution_count": null,
   "id": "3cddbe67",
   "metadata": {
    "ExecuteTime": {
     "end_time": "2022-12-22T09:58:23.518089Z",
     "start_time": "2022-12-22T09:58:23.502085Z"
    }
   },
   "outputs": [],
   "source": [
    "recipe_to_assess = sparse_matrix[11]"
   ]
  },
  {
   "cell_type": "code",
   "execution_count": null,
   "id": "99ecac72",
   "metadata": {
    "ExecuteTime": {
     "end_time": "2022-12-22T09:58:23.534102Z",
     "start_time": "2022-12-22T09:58:23.518089Z"
    }
   },
   "outputs": [],
   "source": [
    "data_.loc[11, 'name']"
   ]
  },
  {
   "cell_type": "code",
   "execution_count": null,
   "id": "d2cecc57",
   "metadata": {
    "ExecuteTime": {
     "end_time": "2022-12-22T09:58:23.566106Z",
     "start_time": "2022-12-22T09:58:23.534102Z"
    }
   },
   "outputs": [],
   "source": [
    "neighbour = kNN.kneighbors(recipe_to_assess,\n",
    "                           return_distance=False)"
   ]
  },
  {
   "cell_type": "code",
   "execution_count": null,
   "id": "c6994c62",
   "metadata": {
    "ExecuteTime": {
     "end_time": "2022-12-22T09:58:23.582121Z",
     "start_time": "2022-12-22T09:58:23.566106Z"
    }
   },
   "outputs": [],
   "source": [
    "neighbour"
   ]
  },
  {
   "cell_type": "code",
   "execution_count": null,
   "id": "3f838fe3",
   "metadata": {
    "ExecuteTime": {
     "end_time": "2022-12-22T09:58:23.598127Z",
     "start_time": "2022-12-22T09:58:23.582121Z"
    }
   },
   "outputs": [],
   "source": [
    "filtered_df_ord.loc[5958,'Recipe Name']"
   ]
  },
  {
   "cell_type": "code",
   "execution_count": null,
   "id": "90f6fceb",
   "metadata": {
    "ExecuteTime": {
     "end_time": "2022-12-22T09:58:23.614112Z",
     "start_time": "2022-12-22T09:58:23.598127Z"
    }
   },
   "outputs": [],
   "source": [
    "filtered_df_ord.loc[5958, \"Ingredients\"]"
   ]
  },
  {
   "cell_type": "code",
   "execution_count": null,
   "id": "74a9bf0f",
   "metadata": {
    "ExecuteTime": {
     "end_time": "2022-12-22T09:58:23.630116Z",
     "start_time": "2022-12-22T09:58:23.614112Z"
    }
   },
   "outputs": [],
   "source": [
    "filtered_df_ord.loc[neighbour[0], \"Ingredients\"]"
   ]
  },
  {
   "cell_type": "code",
   "execution_count": null,
   "id": "ba5a0918",
   "metadata": {
    "ExecuteTime": {
     "end_time": "2022-12-22T09:58:23.662400Z",
     "start_time": "2022-12-22T09:58:23.630116Z"
    }
   },
   "outputs": [],
   "source": [
    "filtered_df_ord.loc[neighbour[0],'Recipe Name']"
   ]
  },
  {
   "cell_type": "code",
   "execution_count": null,
   "id": "98143c2e",
   "metadata": {
    "ExecuteTime": {
     "end_time": "2022-12-22T09:58:23.678138Z",
     "start_time": "2022-12-22T09:58:23.662400Z"
    }
   },
   "outputs": [],
   "source": [
    "def print_recipe_recom(x):\n",
    "    recipe_to_assess = sparse_matrix[x]\n",
    "    neighbour = kNN.kneighbors(recipe_to_assess, return_distance=False)\n",
    "    print(\"If you like {}, you should try:\\n\\n{}\".format(\n",
    "        (data_.loc[x, 'name']), (data_.loc[neighbour[0][1:], 'name'])))"
   ]
  },
  {
   "cell_type": "code",
   "execution_count": null,
   "id": "98746bb2",
   "metadata": {
    "ExecuteTime": {
     "end_time": "2022-12-22T09:58:23.710147Z",
     "start_time": "2022-12-22T09:58:23.678138Z"
    }
   },
   "outputs": [],
   "source": [
    "print_recipe_recom(22)"
   ]
  },
  {
   "cell_type": "code",
   "execution_count": null,
   "id": "a31b7a74",
   "metadata": {
    "ExecuteTime": {
     "end_time": "2022-12-22T09:58:23.742149Z",
     "start_time": "2022-12-22T09:58:23.710147Z"
    }
   },
   "outputs": [],
   "source": [
    "data_.loc[neighbour[0][1:],'name']"
   ]
  },
  {
   "cell_type": "code",
   "execution_count": null,
   "id": "7132fc7f",
   "metadata": {
    "ExecuteTime": {
     "end_time": "2022-12-22T09:58:23.758151Z",
     "start_time": "2022-12-22T09:58:23.742149Z"
    }
   },
   "outputs": [],
   "source": [
    "pd.set_option('display.max_colwidth', None)"
   ]
  },
  {
   "cell_type": "code",
   "execution_count": null,
   "id": "c9c39774",
   "metadata": {
    "ExecuteTime": {
     "end_time": "2022-12-22T09:58:23.790451Z",
     "start_time": "2022-12-22T09:58:23.758151Z"
    }
   },
   "outputs": [],
   "source": [
    "data = [(data_.loc[2, 'name']),(data_.loc[2, 'category']),(data_.loc[2, 'ingr_results']),\n",
    "        (data_.loc[2, 'directions']), (data_.loc[2, 'servings']),\n",
    "        (data_.loc[2, 'yield']), (data_.loc[2, 'rating']), (data_.loc[2, 'rating_count'])]\n",
    "headers = [\"Recipe\", \"Category\",\"Ingredients\", \"Directions\", \"Servings\", \"Yield\",\"Rating\",\"Rating Count\"]\n",
    "pd.DataFrame(data, headers)"
   ]
  },
  {
   "cell_type": "code",
   "execution_count": null,
   "id": "6d2edd9b",
   "metadata": {
    "ExecuteTime": {
     "end_time": "2022-12-22T09:58:23.822208Z",
     "start_time": "2022-12-22T09:58:23.790451Z"
    }
   },
   "outputs": [],
   "source": [
    "data_n = [(data_.loc[neighbour[0][1:], 'name']),\n",
    "          (data_.loc[neighbour[0][1:], 'category']),\n",
    "          (data_.loc[neighbour[0][1:], 'servings']),\n",
    "          (data_.loc[neighbour[0][1:], 'yield']),\n",
    "          (data_.loc[neighbour[0][1:], 'rating']),\n",
    "          (data_.loc[neighbour[0][1:], 'rating_count']),\n",
    "          (data_.loc[neighbour[0][1:], 'ingr_results']),\n",
    "          (data_.loc[neighbour[0][1:], 'directions'])]\n",
    "headers = [\n",
    "    \"Recipe\", \"Category\", \"Servings\", \"Yield\",\n",
    "    \"Rating\", \"Rating Count\", \"Ingredients\", \"Directions\"\n",
    "]\n",
    "pd.DataFrame(data_n, headers)"
   ]
  },
  {
   "cell_type": "markdown",
   "id": "f2d2aec0",
   "metadata": {},
   "source": [
    "## Function to find recommendations by recipe ID"
   ]
  },
  {
   "cell_type": "code",
   "execution_count": null,
   "id": "3e97be24",
   "metadata": {
    "ExecuteTime": {
     "end_time": "2022-12-22T09:58:23.838201Z",
     "start_time": "2022-12-22T09:58:23.822208Z"
    }
   },
   "outputs": [],
   "source": [
    "def print_recipe_recom_format(x):\n",
    "    #this function takes the recipe index number as input and returns 5 suggestions\n",
    "    recipe_to_assess = sparse_matrix[x]\n",
    "    neighbour = kNN.kneighbors(recipe_to_assess, return_distance=False)\n",
    "    data_n = [(data_.loc[neighbour[0][1:], 'name']),\n",
    "              (data_.loc[neighbour[0][1:], 'category']),\n",
    "              (data_.loc[neighbour[0][1:], 'servings']),\n",
    "              (data_.loc[neighbour[0][1:], 'yield']),\n",
    "              (data_.loc[neighbour[0][1:], 'rating']),\n",
    "              (data_.loc[neighbour[0][1:], 'rating_count']),\n",
    "              (data_.loc[neighbour[0][1:], 'ingr_results']),\n",
    "              (data_.loc[neighbour[0][1:], 'directions'])]\n",
    "    headers = [\n",
    "        \"Recipe\", \"Category\", \"Servings\", \"Yield\", \"Rating\", \"Rating Count\",\n",
    "        \"Ingredients\", \"Directions\"\n",
    "    ]\n",
    "    return pd.DataFrame(data_n, headers)"
   ]
  },
  {
   "cell_type": "code",
   "execution_count": null,
   "id": "183f0b76",
   "metadata": {
    "ExecuteTime": {
     "end_time": "2022-12-22T09:58:23.870210Z",
     "start_time": "2022-12-22T09:58:23.838201Z"
    }
   },
   "outputs": [],
   "source": [
    "print_recipe_recom_format(88)"
   ]
  },
  {
   "cell_type": "code",
   "execution_count": null,
   "id": "8b60166c",
   "metadata": {
    "ExecuteTime": {
     "end_time": "2022-12-22T09:58:23.902639Z",
     "start_time": "2022-12-22T09:58:23.870210Z"
    }
   },
   "outputs": [],
   "source": [
    "def print_recipe_recom_format_(x):\n",
    "    #this function takes the recipe index number as input and returns 5 suggestions\n",
    "    recipe_to_assess = sparse_matrix[x]\n",
    "    neighbour = kNN.kneighbors(recipe_to_assess, return_distance=False)\n",
    "    data_n = [(data_.loc[neighbour[0][1:], 'name']),\n",
    "              (data_.loc[neighbour[0][1:], 'category']),\n",
    "              (data_.loc[neighbour[0][1:], 'servings']),\n",
    "              (data_.loc[neighbour[0][1:], 'yield']),\n",
    "              (data_.loc[neighbour[0][1:], 'rating']),\n",
    "              (data_.loc[neighbour[0][1:], 'rating_count']),\n",
    "              (data_.loc[neighbour[0][1:], 'ingr_results']),\n",
    "              (data_.loc[neighbour[0][1:], 'directions']),\n",
    "              (data_.loc[neighbour[0][1:], 'url'])]\n",
    "    headers = [\n",
    "        \"Recipe\", \"Category\", \"Servings\", \"Yield\", \"Rating\", \"Rating Count\",\n",
    "        \"Ingredients\", \"Directions\", \"Url\"]\n",
    "    print(\"If you like {}, you should try:\\n\\n\".format((data_.loc[x, 'name'])))\n",
    "    return pd.DataFrame(data_n, headers)"
   ]
  },
  {
   "cell_type": "code",
   "execution_count": null,
   "id": "05e3f0c7",
   "metadata": {
    "ExecuteTime": {
     "end_time": "2022-12-22T09:58:23.934246Z",
     "start_time": "2022-12-22T09:58:23.902639Z"
    }
   },
   "outputs": [],
   "source": [
    "print_recipe_recom_format_(199)"
   ]
  },
  {
   "cell_type": "code",
   "execution_count": null,
   "id": "049414db",
   "metadata": {
    "ExecuteTime": {
     "end_time": "2022-12-22T09:58:23.966284Z",
     "start_time": "2022-12-22T09:58:23.934246Z"
    }
   },
   "outputs": [],
   "source": [
    "def print_recipe_recom_n_and_index(y,x):\n",
    "    #this function takes as input the number of recipes to take in consideration(1 x recipe + neighbours) ad recipe index\n",
    "    from sklearn.neighbors import NearestNeighbors\n",
    "\n",
    "    kNN = NearestNeighbors(n_neighbors=y, metric='cosine')\n",
    "    kNN\n",
    "    kNN.fit(sparse_matrix)\n",
    "    recipe_to_assess = sparse_matrix[x]\n",
    "    neighbour = kNN.kneighbors(recipe_to_assess, return_distance=False)\n",
    "    data_n = [(data_.loc[neighbour[0][1:], 'name']),\n",
    "              (data_.loc[neighbour[0][1:], 'category']),\n",
    "              (data_.loc[neighbour[0][1:], 'servings']),\n",
    "              (data_.loc[neighbour[0][1:], 'yield']),\n",
    "              (data_.loc[neighbour[0][1:], 'rating']),\n",
    "              (data_.loc[neighbour[0][1:], 'rating_count']),\n",
    "              (data_.loc[neighbour[0][1:], 'ingr_results']),\n",
    "              (data_.loc[neighbour[0][1:], 'directions']),\n",
    "              (data_.loc[neighbour[0][1:], 'url'])]\n",
    "    headers = [\n",
    "        \"Recipe\", \"Category\", \"Servings\", \"Yield\", \"Rating\", \"Rating Count\",\n",
    "        \"Ingredients\", \"Directions\", \"Url\"]\n",
    "    print(\"If you like {}, you should try:\\n\\n\".format((data_.loc[x, 'name'])))\n",
    "    return pd.DataFrame(data_n, headers)"
   ]
  },
  {
   "cell_type": "code",
   "execution_count": null,
   "id": "66bbce43",
   "metadata": {
    "ExecuteTime": {
     "end_time": "2022-12-22T09:58:24.014499Z",
     "start_time": "2022-12-22T09:58:23.966284Z"
    }
   },
   "outputs": [],
   "source": [
    "print_recipe_recom_n_and_index(5,55)"
   ]
  },
  {
   "cell_type": "code",
   "execution_count": null,
   "id": "5352c099",
   "metadata": {
    "ExecuteTime": {
     "end_time": "2022-12-22T09:58:24.046279Z",
     "start_time": "2022-12-22T09:58:24.014499Z"
    }
   },
   "outputs": [],
   "source": [
    "def print_recipe_recom_n_and_index_up(y, x):\n",
    "    #this function takes as input the number of recipes to take in consideration(1 x recipe + neighbours) ad recipe index\n",
    "    \n",
    "    from sklearn.feature_extraction.text import TfidfVectorizer\n",
    "    from sklearn.neighbors import NearestNeighbors\n",
    "\n",
    "    tfidf = TfidfVectorizer()\n",
    "\n",
    "    sparse_matrix = tfidf.fit_transform(\n",
    "        data_[\"ingr_cleaner\"].values.astype('U'))\n",
    "\n",
    "    sparse_matrix\n",
    "\n",
    "    kNN = NearestNeighbors(n_neighbors=y, metric='cosine')\n",
    "    kNN\n",
    "    kNN.fit(sparse_matrix)\n",
    "    recipe_to_assess = sparse_matrix[x]\n",
    "    neighbour = kNN.kneighbors(recipe_to_assess, return_distance=False)\n",
    "    data_n = [(data_.loc[neighbour[0][1:], 'name']),\n",
    "              (data_.loc[neighbour[0][1:], 'category']),\n",
    "              (data_.loc[neighbour[0][1:], 'servings']),\n",
    "              (data_.loc[neighbour[0][1:], 'yield']),\n",
    "              (data_.loc[neighbour[0][1:], 'rating']),\n",
    "              (data_.loc[neighbour[0][1:], 'rating_count']),\n",
    "              (data_.loc[neighbour[0][1:], 'ingr_results']),\n",
    "              (data_.loc[neighbour[0][1:], 'directions']),\n",
    "              (data_.loc[neighbour[0][1:], 'url'])]\n",
    "    headers = [\n",
    "        \"Recipe\", \"Category\", \"Servings\", \"Yield\", \"Rating\", \"Rating Count\",\n",
    "        \"Ingredients\", \"Directions\", \"Url\"\n",
    "    ]\n",
    "    print(\"If you like {}, you should try:\\n\\n\".format((data_.loc[x, 'name'])))\n",
    "    return pd.DataFrame(data_n, headers)"
   ]
  },
  {
   "cell_type": "code",
   "execution_count": null,
   "id": "5c7d4570",
   "metadata": {
    "ExecuteTime": {
     "end_time": "2022-12-22T09:58:24.590588Z",
     "start_time": "2022-12-22T09:58:24.046279Z"
    }
   },
   "outputs": [],
   "source": [
    "print_recipe_recom_n_and_index_up(5,55)"
   ]
  },
  {
   "cell_type": "markdown",
   "id": "0adcb5d8",
   "metadata": {},
   "source": [
    "### Function to find similar recipes - user input"
   ]
  },
  {
   "cell_type": "code",
   "execution_count": null,
   "id": "b2b0b29e",
   "metadata": {
    "ExecuteTime": {
     "end_time": "2022-12-22T12:26:42.825658Z",
     "start_time": "2022-12-22T12:26:42.803588Z"
    }
   },
   "outputs": [],
   "source": [
    "def recipe_reco_input():\n",
    "        \n",
    "    from sklearn.feature_extraction.text import TfidfVectorizer\n",
    "    from sklearn.neighbors import NearestNeighbors\n",
    "    \n",
    "    input_ingr = input(\"Which recipe or ingredient are you looking for? \")\n",
    "    strings = input_ingr.split()\n",
    "    mask = data_[data_['name'].str.contains('|'.join(strings), case=False, na=False)]\n",
    "    mask_index = mask.index[0]\n",
    "    \n",
    "    tfidf = TfidfVectorizer()\n",
    "\n",
    "    sparse_matrix = tfidf.fit_transform(\n",
    "        data_[\"ingr_cleaner\"].values.astype('U'))\n",
    "\n",
    "    kNN = NearestNeighbors(n_neighbors=4, metric='cosine')\n",
    "    kNN\n",
    "    kNN.fit(sparse_matrix)\n",
    "    recipe_to_assess = sparse_matrix[mask_index]\n",
    "    neighbour = kNN.kneighbors(recipe_to_assess, return_distance=False)\n",
    "    data_n = [(data_.loc[neighbour[0][1:], 'name']),\n",
    "              (data_.loc[neighbour[0][1:], 'category']),\n",
    "              (data_.loc[neighbour[0][1:], 'servings']),\n",
    "              (data_.loc[neighbour[0][1:], 'yield']),\n",
    "              (data_.loc[neighbour[0][1:], 'rating']),\n",
    "              (data_.loc[neighbour[0][1:], 'rating_count']),\n",
    "              (data_.loc[neighbour[0][1:], 'ingr_results']),\n",
    "              (data_.loc[neighbour[0][1:], 'directions']),\n",
    "              (data_.loc[neighbour[0][1:], 'url'])]\n",
    "    headers = [\n",
    "        \"Recipe\", \"Category\", \"Servings\", \"Yield\", \"Rating\", \"Rating Count\",\n",
    "        \"Ingredients\", \"Directions\", \"Url\"\n",
    "    ]\n",
    "    print(\"If you like {}, you should try:\\n\\n\".format(input_ingr))\n",
    "    return pd.DataFrame(data_n, headers)"
   ]
  },
  {
   "cell_type": "code",
   "execution_count": null,
   "id": "9a8a823a",
   "metadata": {
    "ExecuteTime": {
     "end_time": "2022-12-22T12:26:45.172886Z",
     "start_time": "2022-12-22T12:26:43.172502Z"
    }
   },
   "outputs": [],
   "source": [
    "recipe_reco_input()"
   ]
  },
  {
   "cell_type": "markdown",
   "id": "120939ae",
   "metadata": {},
   "source": [
    "### def recipe_ingredient_recom_input"
   ]
  },
  {
   "cell_type": "code",
   "execution_count": null,
   "id": "34e9f06c",
   "metadata": {
    "ExecuteTime": {
     "end_time": "2022-12-22T15:35:07.702377Z",
     "start_time": "2022-12-22T15:35:07.653650Z"
    }
   },
   "outputs": [],
   "source": [
    "def recipe_ingredient_recom_input():\n",
    "\n",
    "    from sklearn.feature_extraction.text import TfidfVectorizer\n",
    "    from sklearn.neighbors import NearestNeighbors\n",
    "\n",
    "    input_ingr = input(\"Which recipe or ingredient are you looking for? \")\n",
    "    strings = input_ingr.split()\n",
    "    mask = data_[data_['name'].str.\n",
    "                 contains('|'.join(strings), case=False, na=False)\n",
    "                 | data_['ingr_cleaner'].str.\n",
    "                 contains('|'.join(strings), case=False, na=False)]\n",
    "    mask_index = mask.sample().index[0]\n",
    "\n",
    "    tfidf = TfidfVectorizer()\n",
    "\n",
    "    sparse_matrix = tfidf.fit_transform(\n",
    "        data_[\"ingr_cleaner\"].values.astype('U'))\n",
    "\n",
    "    kNN = NearestNeighbors(n_neighbors=4, metric='cosine')\n",
    "    kNN\n",
    "    kNN.fit(sparse_matrix)\n",
    "    recipe_to_assess = sparse_matrix[mask_index]\n",
    "    neighbour = kNN.kneighbors(recipe_to_assess, return_distance=False)\n",
    "    data_n = [(data_.loc[neighbour[0][1:], 'name']),\n",
    "              (data_.loc[neighbour[0][1:], 'category']),\n",
    "              (data_.loc[neighbour[0][1:], 'servings']),\n",
    "              (data_.loc[neighbour[0][1:], 'yield']),\n",
    "              (data_.loc[neighbour[0][1:], 'rating']),\n",
    "              (data_.loc[neighbour[0][1:], 'rating_count']),\n",
    "              (data_.loc[neighbour[0][1:], 'ingr_results']),\n",
    "              (data_.loc[neighbour[0][1:], 'directions']),\n",
    "              (data_.loc[neighbour[0][1:], 'url'])]\n",
    "    headers = [\n",
    "        \"Recipe\", \"Category\", \"Servings\", \"Yield\", \"Rating\", \"Rating Count\",\n",
    "        \"Ingredients\", \"Directions\", \"Url\"\n",
    "    ]\n",
    "    print(\"\\nIf you like {}, you should try:\\n\\n\".format(input_ingr))\n",
    "    return pd.DataFrame(data_n, headers)"
   ]
  },
  {
   "cell_type": "code",
   "execution_count": null,
   "id": "062e92d0",
   "metadata": {
    "ExecuteTime": {
     "end_time": "2022-12-22T17:28:52.918535Z",
     "start_time": "2022-12-22T17:28:48.478259Z"
    }
   },
   "outputs": [],
   "source": [
    "recipe_ingredient_recom_input()"
   ]
  },
  {
   "cell_type": "raw",
   "id": "53a6b9a4",
   "metadata": {
    "ExecuteTime": {
     "end_time": "2022-12-22T10:00:39.511325Z",
     "start_time": "2022-12-22T10:00:30.770901Z"
    }
   },
   "source": [
    "!pip install dataframe_image"
   ]
  },
  {
   "cell_type": "code",
   "execution_count": null,
   "id": "02331153",
   "metadata": {
    "ExecuteTime": {
     "end_time": "2022-12-22T10:00:57.001905Z",
     "start_time": "2022-12-22T10:00:39.511325Z"
    }
   },
   "outputs": [],
   "source": [
    "import dataframe_image as dfi\n",
    "data_dfdata_df = recipe_ingredient_recom_input()\n",
    "\n",
    "dfi.export(data_dfdata_df, \"table.png\")"
   ]
  },
  {
   "cell_type": "code",
   "execution_count": null,
   "id": "a18ea203",
   "metadata": {
    "ExecuteTime": {
     "end_time": "2022-12-22T10:00:59.288696Z",
     "start_time": "2022-12-22T10:00:57.001905Z"
    }
   },
   "outputs": [],
   "source": [
    "recipeing_reco_input()"
   ]
  },
  {
   "cell_type": "markdown",
   "id": "4948f5dd",
   "metadata": {},
   "source": [
    "## Search by ingredients"
   ]
  },
  {
   "cell_type": "markdown",
   "id": "ed78cf4d",
   "metadata": {},
   "source": [
    "### Find any recipe containing any of these ingredients"
   ]
  },
  {
   "cell_type": "code",
   "execution_count": null,
   "id": "06626571",
   "metadata": {
    "ExecuteTime": {
     "end_time": "2022-12-22T10:01:11.546515Z",
     "start_time": "2022-12-22T10:01:10.805841Z"
    }
   },
   "outputs": [],
   "source": [
    "pattern = 'butter |eggs | milk | lemon'\n",
    "mask = data_[\"ingr_results\"].str.contains(pattern, case=False, na=False)\n",
    "data_[mask].sample(3)"
   ]
  },
  {
   "cell_type": "markdown",
   "id": "e345137e",
   "metadata": {},
   "source": [
    "### Find any recipe containing all of these ingredients"
   ]
  },
  {
   "cell_type": "code",
   "execution_count": null,
   "id": "d59c997f",
   "metadata": {
    "ExecuteTime": {
     "end_time": "2022-12-22T10:01:11.864382Z",
     "start_time": "2022-12-22T10:01:11.549644Z"
    }
   },
   "outputs": [],
   "source": [
    "pattern = 'butter.*eggs.*milk.*lemon'\n",
    "mask = data_[\"ingr_results\"].str.contains(pattern, case=False, na=False)\n",
    "data_[mask].sample(3)"
   ]
  },
  {
   "cell_type": "code",
   "execution_count": null,
   "id": "73887657",
   "metadata": {
    "ExecuteTime": {
     "end_time": "2022-12-22T10:01:11.880606Z",
     "start_time": "2022-12-22T10:01:11.864382Z"
    }
   },
   "outputs": [],
   "source": [
    "#input pattern\n",
    "#find pattern in data_[\"ingr_results\"]\n",
    "#return index of 1 sample\n",
    "#vectorise ingredients\n",
    "#return neighbours\n",
    "#get results"
   ]
  },
  {
   "cell_type": "code",
   "execution_count": null,
   "id": "2cd74d0f",
   "metadata": {
    "ExecuteTime": {
     "end_time": "2022-12-22T10:01:12.658177Z",
     "start_time": "2022-12-22T10:01:11.880606Z"
    }
   },
   "outputs": [],
   "source": [
    "ing1 = \"butter\"\n",
    "ing2 = \"eggs\"\n",
    "ing3 = \"milk\"\n",
    "mask = data_[(data_['ingr_results'].str.contains(ing1, case=False, na=False)) &\n",
    "             (data_['ingr_results'].str.contains(ing2, case=False, na=False))&\n",
    "             (data_['ingr_results'].str.contains(ing3, case=False, na=False))]"
   ]
  },
  {
   "cell_type": "code",
   "execution_count": null,
   "id": "8cf20c6a",
   "metadata": {
    "ExecuteTime": {
     "end_time": "2022-12-22T10:01:12.738689Z",
     "start_time": "2022-12-22T10:01:12.658177Z"
    }
   },
   "outputs": [],
   "source": [
    "sparse_matrix = tfidf.fit_transform(mask.ingr_cleaner.values)\n",
    "sparse_matrix"
   ]
  },
  {
   "cell_type": "code",
   "execution_count": null,
   "id": "d0cd9ce3",
   "metadata": {
    "ExecuteTime": {
     "end_time": "2022-12-22T10:01:12.754691Z",
     "start_time": "2022-12-22T10:01:12.738689Z"
    }
   },
   "outputs": [],
   "source": [
    "mask.index"
   ]
  },
  {
   "cell_type": "code",
   "execution_count": null,
   "id": "b6cded2b",
   "metadata": {
    "ExecuteTime": {
     "end_time": "2022-12-22T10:01:12.786701Z",
     "start_time": "2022-12-22T10:01:12.754691Z"
    },
    "scrolled": true
   },
   "outputs": [],
   "source": [
    "for x in mask.index:\n",
    "    print(x)"
   ]
  },
  {
   "cell_type": "code",
   "execution_count": null,
   "id": "1af1b915",
   "metadata": {
    "ExecuteTime": {
     "end_time": "2022-12-22T10:01:12.802822Z",
     "start_time": "2022-12-22T10:01:12.789310Z"
    }
   },
   "outputs": [],
   "source": [
    "first_index = mask.index[0]"
   ]
  },
  {
   "cell_type": "code",
   "execution_count": null,
   "id": "5fe40daf",
   "metadata": {
    "ExecuteTime": {
     "end_time": "2022-12-22T10:01:12.834896Z",
     "start_time": "2022-12-22T10:01:12.805839Z"
    }
   },
   "outputs": [],
   "source": [
    "df9 = mask.filter(items = [first_index], axis=0)\n",
    "df9"
   ]
  },
  {
   "cell_type": "code",
   "execution_count": null,
   "id": "735382ea",
   "metadata": {
    "ExecuteTime": {
     "end_time": "2022-12-22T10:01:12.883012Z",
     "start_time": "2022-12-22T10:01:12.842902Z"
    }
   },
   "outputs": [],
   "source": [
    "def recipe_recommendation_sys(ing1,ing2,ing3):\n",
    "    from sklearn.feature_extraction.text import TfidfVectorizer\n",
    "    from sklearn.neighbors import NearestNeighbors\n",
    "    ing1_ = ing1\n",
    "    ing2_ = ing2\n",
    "    ing3_ = ing3\n",
    "    mask = data_[(data_['ingr_cleaner'].str.contains(ing1_, case=False, na=False)) &\n",
    "             (data_['ingr_cleaner'].str.contains(ing2_, case=False, na=False))&\n",
    "             (data_['ingr_cleaner'].str.contains(ing3_, case=False, na=False))]\n",
    "    \n",
    "    first_index = mask.index[0]\n",
    "    \n",
    "    mask_df = mask.filter(items = [first_index], axis=0)\n",
    "    \n",
    "    tfidf = TfidfVectorizer()\n",
    "\n",
    "    sparse_matrix = tfidf.fit_transform(data_[\"ingr_cleaner\"].values.astype('U'))\n",
    "\n",
    "    kNN = NearestNeighbors(n_neighbors=4, metric='cosine')\n",
    "    kNN\n",
    "    kNN.fit(sparse_matrix)\n",
    "    ingredients_to_assess = sparse_matrix[first_index]\n",
    "    neighbour = kNN.kneighbors(ingredients_to_assess, return_distance=False)\n",
    "    data_n = [(data_.loc[neighbour[0][1:], 'name']),\n",
    "              (data_.loc[neighbour[0][1:], 'category']),\n",
    "              (data_.loc[neighbour[0][1:], 'servings']),\n",
    "              (data_.loc[neighbour[0][1:], 'yield']),\n",
    "              (data_.loc[neighbour[0][1:], 'rating']),\n",
    "              (data_.loc[neighbour[0][1:], 'rating_count']),\n",
    "              (data_.loc[neighbour[0][1:], 'ingr_results']),\n",
    "              (data_.loc[neighbour[0][1:], 'directions']),\n",
    "              (data_.loc[neighbour[0][1:], 'url'])]\n",
    "    headers = [\n",
    "        \"Recipe\", \"Category\", \"Servings\", \"Yield\", \"Rating\", \"Rating Count\",\n",
    "        \"Ingredients\", \"Directions\", \"Url\"]\n",
    "    print(\"If you like {}, {} and {}, you should try:\\n\\n\".format(ing1_,ing2_,ing3_))\n",
    "    return pd.DataFrame(data_n, headers)"
   ]
  },
  {
   "cell_type": "code",
   "execution_count": null,
   "id": "93dd335e",
   "metadata": {
    "ExecuteTime": {
     "end_time": "2022-12-22T10:01:13.866810Z",
     "start_time": "2022-12-22T10:01:12.883012Z"
    }
   },
   "outputs": [],
   "source": [
    "recipe_recommendation_sys(\"egg\",\"lemon\",\"tomato\")"
   ]
  },
  {
   "cell_type": "code",
   "execution_count": null,
   "id": "c74f2cde",
   "metadata": {
    "ExecuteTime": {
     "end_time": "2022-12-22T10:01:14.137927Z",
     "start_time": "2022-12-22T10:01:13.872328Z"
    }
   },
   "outputs": [],
   "source": [
    "ing1_ = \"lemon\"\n",
    "ing2_ = \"tomato\"\n",
    "ing3_ = \"milk\"\n",
    "mask = data_[\n",
    "    (data_['ingr_cleaner'].str.contains(ing1_, case=False, na=False))\n",
    "    & (data_['ingr_cleaner'].str.contains(ing2_, case=False, na=False)) &\n",
    "    (data_['ingr_cleaner'].str.contains(ing3_, case=False, na=False))]\n",
    "mask"
   ]
  },
  {
   "cell_type": "code",
   "execution_count": null,
   "id": "4560f363",
   "metadata": {
    "ExecuteTime": {
     "end_time": "2022-12-22T10:01:14.177623Z",
     "start_time": "2022-12-22T10:01:14.140509Z"
    }
   },
   "outputs": [],
   "source": [
    "first_index = mask.index[0]\n",
    "\n",
    "mask_df = mask.filter(items=[first_index], axis=0)\n",
    "mask_df"
   ]
  },
  {
   "cell_type": "code",
   "execution_count": null,
   "id": "7e3a8a81",
   "metadata": {
    "ExecuteTime": {
     "end_time": "2022-12-22T10:01:14.924703Z",
     "start_time": "2022-12-22T10:01:14.177623Z"
    }
   },
   "outputs": [],
   "source": [
    "tfidf = TfidfVectorizer()\n",
    "\n",
    "sparse_matrix = tfidf.fit_transform(data_[\"ingr_cleaner\"].values.astype('U'))\n",
    "sparse_matrix"
   ]
  },
  {
   "cell_type": "code",
   "execution_count": null,
   "id": "dc912945",
   "metadata": {
    "ExecuteTime": {
     "end_time": "2022-12-22T10:01:14.939865Z",
     "start_time": "2022-12-22T10:01:14.924703Z"
    }
   },
   "outputs": [],
   "source": [
    "kNN = NearestNeighbors(n_neighbors=4, metric='cosine')\n",
    "\n",
    "kNN.fit(sparse_matrix)\n",
    "ingredients_to_assess = sparse_matrix[first_index]"
   ]
  },
  {
   "cell_type": "code",
   "execution_count": null,
   "id": "87cc53e6",
   "metadata": {
    "ExecuteTime": {
     "end_time": "2022-12-22T10:01:14.981080Z",
     "start_time": "2022-12-22T10:01:14.942958Z"
    }
   },
   "outputs": [],
   "source": [
    "neighbour = kNN.kneighbors(ingredients_to_assess, return_distance=False)"
   ]
  },
  {
   "cell_type": "code",
   "execution_count": null,
   "id": "d8d777d0",
   "metadata": {
    "ExecuteTime": {
     "end_time": "2022-12-22T10:01:15.020399Z",
     "start_time": "2022-12-22T10:01:14.981080Z"
    }
   },
   "outputs": [],
   "source": [
    "def print_recipe_recom_n_and_index_up(y,x):\n",
    "    #this function takes as input the number of recipes to take in consideration(1 x recipe + neighbours) ad recipe index\n",
    "    from sklearn.feature_extraction.text import TfidfVectorizer\n",
    "    from sklearn.neighbors import NearestNeighbors\n",
    "\n",
    "    tfidf = TfidfVectorizer()\n",
    "\n",
    "    sparse_matrix = tfidf.fit_transform(data_[\"ingr_cleaner\"].values.astype('U'))\n",
    "\n",
    "    sparse_matrix\n",
    "    \n",
    "\n",
    "    kNN = NearestNeighbors(n_neighbors=y, metric='cosine')\n",
    "    kNN\n",
    "    kNN.fit(sparse_matrix)\n",
    "    recipe_to_assess = sparse_matrix[x]\n",
    "    neighbour = kNN.kneighbors(recipe_to_assess, return_distance=False)\n",
    "    data_n = [(data_.loc[neighbour[0][1:], 'name']),\n",
    "              (data_.loc[neighbour[0][1:], 'category']),\n",
    "              (data_.loc[neighbour[0][1:], 'servings']),\n",
    "              (data_.loc[neighbour[0][1:], 'yield']),\n",
    "              (data_.loc[neighbour[0][1:], 'rating']),\n",
    "              (data_.loc[neighbour[0][1:], 'rating_count']),\n",
    "              (data_.loc[neighbour[0][1:], 'ingr_results']),\n",
    "              (data_.loc[neighbour[0][1:], 'directions']),\n",
    "              (data_.loc[neighbour[0][1:], 'url'])]\n",
    "    headers = [\n",
    "        \"Recipe\", \"Category\", \"Servings\", \"Yield\", \"Rating\", \"Rating Count\",\n",
    "        \"Ingredients\", \"Directions\", \"Url\"]\n",
    "    print(\"If you like {}, you should try:\\n\\n\".format((data_.loc[x, 'name'])))\n",
    "    return pd.DataFrame(data_n, headers)"
   ]
  },
  {
   "cell_type": "code",
   "execution_count": null,
   "id": "db59b110",
   "metadata": {
    "ExecuteTime": {
     "end_time": "2022-12-22T10:01:15.818512Z",
     "start_time": "2022-12-22T10:01:15.024072Z"
    }
   },
   "outputs": [],
   "source": [
    "print_recipe_recom_n_and_index_up(2,55)"
   ]
  },
  {
   "cell_type": "code",
   "execution_count": null,
   "id": "bc3c18cf",
   "metadata": {
    "ExecuteTime": {
     "end_time": "2022-12-22T10:01:15.845887Z",
     "start_time": "2022-12-22T10:01:15.821862Z"
    }
   },
   "outputs": [],
   "source": [
    "def recipe_recommendation_sys2(ing1,ing2,ing3):\n",
    "    from sklearn.feature_extraction.text import TfidfVectorizer\n",
    "    from sklearn.neighbors import NearestNeighbors\n",
    "    ing1_ = ing1\n",
    "    ing2_ = ing2\n",
    "    ing3_ = ing3\n",
    "    mask = data_[(data_['ingr_cleaner'].str.contains(ing1_, case=False, na=False)) &\n",
    "             (data_['ingr_cleaner'].str.contains(ing2_, case=False, na=False))&\n",
    "             (data_['ingr_cleaner'].str.contains(ing3_, case=False, na=False))]\n",
    "    \n",
    "    random_index = mask.index.sample(n=1)\n",
    "    \n",
    "    mask_df = mask.filter(items = [random_index], axis=0)\n",
    "    \n",
    "    tfidf = TfidfVectorizer()\n",
    "\n",
    "    sparse_matrix = tfidf.fit_transform(mask[\"ingr_cleaner\"].values.astype('U'))\n",
    "\n",
    "    kNN = NearestNeighbors(n_neighbors=4, metric='cosine')\n",
    "    kNN.fit(sparse_matrix)\n",
    "    ingredients_to_assess = sparse_matrix[random_index]\n",
    "    neighbour = kNN.kneighbors(ingredients_to_assess, return_distance=False)\n",
    "    data_n = [(data_.loc[neighbour[0][1:], 'name']),\n",
    "              (data_.loc[neighbour[0][1:], 'category']),\n",
    "              (data_.loc[neighbour[0][1:], 'servings']),\n",
    "              (data_.loc[neighbour[0][1:], 'yield']),\n",
    "              (data_.loc[neighbour[0][1:], 'rating']),\n",
    "              (data_.loc[neighbour[0][1:], 'rating_count']),\n",
    "              (data_.loc[neighbour[0][1:], 'ingr_results']),\n",
    "              (data_.loc[neighbour[0][1:], 'directions']),\n",
    "              (data_.loc[neighbour[0][1:], 'url'])]\n",
    "    headers = [\n",
    "        \"Recipe\", \"Category\", \"Servings\", \"Yield\", \"Rating\", \"Rating Count\",\n",
    "        \"Ingredients\", \"Directions\", \"Url\"]\n",
    "    print(\"If you like {}, {} and {}, you should try:\\n\\n\".format(ing1_,ing2_,ing3_))\n",
    "    return pd.DataFrame(data_n, headers)"
   ]
  },
  {
   "cell_type": "code",
   "execution_count": null,
   "id": "50a4b788",
   "metadata": {
    "ExecuteTime": {
     "end_time": "2022-12-22T10:01:16.616384Z",
     "start_time": "2022-12-22T10:01:15.845887Z"
    }
   },
   "outputs": [],
   "source": [
    "recipe_recommendation_sys(\"egg\",\"lemon\",\"pomegranate\")"
   ]
  },
  {
   "cell_type": "markdown",
   "id": "5008f74e",
   "metadata": {},
   "source": [
    "### Recipe filter function"
   ]
  },
  {
   "cell_type": "code",
   "execution_count": null,
   "id": "43b3f029",
   "metadata": {
    "ExecuteTime": {
     "end_time": "2022-12-22T10:01:16.632386Z",
     "start_time": "2022-12-22T10:01:16.616384Z"
    }
   },
   "outputs": [],
   "source": [
    "def recipe_filter(ing1,ing2,ing3):\n",
    "    ing1_ = ing1\n",
    "    ing2_ = ing2\n",
    "    ing3_ = ing3\n",
    "    mask = data_[(data_['ingr_cleaner'].str.contains(ing1_, case=False, na=False)) &\n",
    "             (data_['ingr_cleaner'].str.contains(ing2_, case=False, na=False))&\n",
    "             (data_['ingr_cleaner'].str.contains(ing3_, case=False, na=False))]\n",
    "   \n",
    "    mask_df = mask.sample(n=3)\n",
    "    \n",
    "    data_n = [(mask_df.name),\n",
    "              (mask_df.category),\n",
    "              (mask_df.servings),\n",
    "              (mask_df[\"yield\"]),\n",
    "              (mask_df.rating),\n",
    "              (mask_df.rating_count),\n",
    "              (mask_df.ingr_results),\n",
    "              (mask_df.directions),\n",
    "              (mask_df.url)]\n",
    "    headers = [\n",
    "        \"Recipe\", \"Category\", \"Servings\", \"Yield\", \"Rating\", \"Rating Count\",\n",
    "        \"Ingredients\", \"Directions\", \"Url\"]\n",
    "    print(\"If you like {}, {} and {}, you should try:\\n\\n\".format(ing1_,ing2_,ing3_))\n",
    "    return pd.DataFrame(data_n, headers)"
   ]
  },
  {
   "cell_type": "code",
   "execution_count": null,
   "id": "532ea002",
   "metadata": {
    "ExecuteTime": {
     "end_time": "2022-12-22T10:01:16.888990Z",
     "start_time": "2022-12-22T10:01:16.636542Z"
    }
   },
   "outputs": [],
   "source": [
    "recipe_filter(\"potato\",\"tomato\",\"carrot\")"
   ]
  },
  {
   "cell_type": "markdown",
   "id": "e235afb5",
   "metadata": {},
   "source": [
    "### def recipe_filter_sys"
   ]
  },
  {
   "cell_type": "code",
   "execution_count": null,
   "id": "5a421bec",
   "metadata": {
    "ExecuteTime": {
     "end_time": "2022-12-22T17:29:52.867184Z",
     "start_time": "2022-12-22T17:29:52.809681Z"
    }
   },
   "outputs": [],
   "source": [
    "def recipe_filter_sys():\n",
    "\n",
    "    input_ingr = input(\"What are your ingredients? \")\n",
    "\n",
    "    mask = data_.loc[sum([data_.ingr_cleaner.str.contains(input_ingr) for word in input_ingr]) > 0]\n",
    "\n",
    "    mask_df = mask[:4]\n",
    "\n",
    "    data_n = [(mask_df.name), (mask_df.category), (mask_df.servings),\n",
    "              (mask_df[\"yield\"]), (mask_df.rating), (mask_df.rating_count),\n",
    "              (mask_df.ingr_results.str.wrap(100)), (mask_df.directions.str.wrap(100)), (mask_df.url)]\n",
    "    headers = [\n",
    "        \"Recipe\", \"Category\", \"Servings\", \"Yield\", \"Rating\", \"Rating Count\",\n",
    "        \"Ingredients\", \"Directions\", \"Url\"\n",
    "    ]\n",
    "    print(\"\\nIf you like {}, you should try:\\n\\n\".format(input_ingr))\n",
    "    return pd.DataFrame(data_n, headers)"
   ]
  },
  {
   "cell_type": "code",
   "execution_count": null,
   "id": "6316a851",
   "metadata": {
    "ExecuteTime": {
     "end_time": "2022-12-22T17:31:44.226290Z",
     "start_time": "2022-12-22T17:31:42.893122Z"
    }
   },
   "outputs": [],
   "source": [
    "recipe_filter_sys()"
   ]
  },
  {
   "cell_type": "code",
   "execution_count": null,
   "id": "1956ebd7",
   "metadata": {
    "ExecuteTime": {
     "end_time": "2022-12-22T14:40:55.007626Z",
     "start_time": "2022-12-22T14:40:48.199609Z"
    }
   },
   "outputs": [],
   "source": [
    "import dataframe_image as dfi\n",
    "data_dfda_ta_df = recipe_filter_sys()\n",
    "\n",
    "dfi.export(data_dfda_ta_df, \"tablef.png\")"
   ]
  },
  {
   "cell_type": "markdown",
   "id": "dc444fb2",
   "metadata": {},
   "source": [
    "# Clustering with KMeans"
   ]
  },
  {
   "cell_type": "code",
   "execution_count": null,
   "id": "80644c1f",
   "metadata": {
    "ExecuteTime": {
     "end_time": "2022-12-22T10:03:21.477611Z",
     "start_time": "2022-12-22T10:02:28.966638Z"
    }
   },
   "outputs": [],
   "source": [
    "# Import the necessary modules\n",
    "from sklearn.cluster import KMeans\n",
    "from sklearn.feature_extraction.text import TfidfVectorizer\n",
    "\n",
    "\n",
    "# Extract the ingredients column from the dataframe\n",
    "ingredients = data_[\"ingr_cleaner\"]\n",
    "\n",
    "# Convert the ingredients column to a matrix of numerical values\n",
    "tfidf = TfidfVectorizer()\n",
    "\n",
    "sparse_matrix = tfidf.fit_transform(ingredients.values.astype('U'))\n",
    "\n",
    "# Create a KMeans clustering model with 5 clusters\n",
    "kmeans = KMeans(n_clusters=5)\n",
    "\n",
    "# Fit the model to the data\n",
    "kmeans.fit(sparse_matrix)\n",
    "\n",
    "# Predict the cluster labels for each recipe\n",
    "cluster_labels = kmeans.predict(sparse_matrix)\n",
    "\n",
    "# Add the cluster labels as a new column in the dataframe\n",
    "data_['cluster'] = cluster_labels\n",
    "\n",
    "# Group the dataframe by the cluster column\n",
    "clusters = data_.groupby('cluster').head(3)"
   ]
  },
  {
   "cell_type": "code",
   "execution_count": null,
   "id": "da033da7",
   "metadata": {
    "ExecuteTime": {
     "end_time": "2022-12-22T10:03:23.436977Z",
     "start_time": "2022-12-22T10:03:21.477611Z"
    }
   },
   "outputs": [],
   "source": [
    "fig, ax = plt.subplots(figsize=(10, 15))\n",
    "\n",
    "sns.set_color_codes(\"muted\")\n",
    "\n",
    "sns.barplot(x=data_.cluster, y=data_.category,\n",
    "\n",
    "data= data_).set(title='Recipe Categories by cluster')"
   ]
  },
  {
   "cell_type": "code",
   "execution_count": null,
   "id": "82da35b5",
   "metadata": {
    "ExecuteTime": {
     "end_time": "2022-12-22T10:04:45.199786Z",
     "start_time": "2022-12-22T10:03:23.441005Z"
    }
   },
   "outputs": [],
   "source": [
    "plt.bar(data_.cluster, data_.category)"
   ]
  },
  {
   "cell_type": "markdown",
   "id": "1ac4ad18",
   "metadata": {},
   "source": [
    "# App"
   ]
  },
  {
   "cell_type": "code",
   "execution_count": null,
   "id": "72fea848",
   "metadata": {
    "ExecuteTime": {
     "end_time": "2022-12-22T10:04:45.231978Z",
     "start_time": "2022-12-22T10:04:45.208070Z"
    }
   },
   "outputs": [],
   "source": [
    "import pickle\n",
    "import requests\n",
    "import json"
   ]
  },
  {
   "cell_type": "code",
   "execution_count": null,
   "id": "ab810aa5",
   "metadata": {
    "ExecuteTime": {
     "end_time": "2022-12-22T10:04:45.263609Z",
     "start_time": "2022-12-22T10:04:45.231978Z"
    }
   },
   "outputs": [],
   "source": [
    "pickle.dump(kNN, open('model.pkl','wb'))\n"
   ]
  },
  {
   "cell_type": "code",
   "execution_count": null,
   "id": "ff8ac687",
   "metadata": {
    "ExecuteTime": {
     "end_time": "2022-12-22T10:04:46.962020Z",
     "start_time": "2022-12-22T10:04:45.263609Z"
    },
    "scrolled": true
   },
   "outputs": [],
   "source": [
    "from flask import Flask,render_template,url_for,request\n",
    "import pickle\n",
    "import joblib\n",
    "\n",
    "app = Flask(__name__)\n",
    "\n",
    "@app.route('/')\n",
    "def home():\n",
    "    return render_template('home.html')\n",
    "\n",
    "@app.route('/predict',methods=['POST'])\n",
    "def predict():\n",
    "    import pandas as pd \n",
    "    data_ = pd.read_csv(r\"C:\\Users\\melen\\Documents\\DS Bootcamp\\data_recipes_clean.csv\")\n",
    "    input_ingr = input(\"Which recipe or ingredient are you looking for? \")\n",
    "    strings = input_ingr.split()\n",
    "    mask = data_[data_['name'].str.contains('|'.join(strings),\n",
    "                                            case=False,\n",
    "                                            na=False)]\n",
    "    mask_index = mask.index[0]\n",
    "\n",
    "    tfidf = TfidfVectorizer()\n",
    "\n",
    "    sparse_matrix = tfidf.fit_transform(\n",
    "        data_[\"ingr_cleaner\"].values.astype('U'))\n",
    "\n",
    "    kNN = NearestNeighbors(n_neighbors=4, metric='cosine')\n",
    "    kNN.fit(sparse_matrix)\n",
    "    recipe_to_assess = sparse_matrix[mask_index]\n",
    "    neighbour = kNN.kneighbors(recipe_to_assess, return_distance=False)\n",
    "    data_n = [(data_.loc[neighbour[0][1:], 'name']),\n",
    "              (data_.loc[neighbour[0][1:], 'category']),\n",
    "              (data_.loc[neighbour[0][1:], 'servings']),\n",
    "              (data_.loc[neighbour[0][1:], 'yield']),\n",
    "              (data_.loc[neighbour[0][1:], 'rating']),\n",
    "              (data_.loc[neighbour[0][1:], 'rating_count']),\n",
    "              (data_.loc[neighbour[0][1:], 'ingr_results']),\n",
    "              (data_.loc[neighbour[0][1:], 'directions']),\n",
    "              (data_.loc[neighbour[0][1:], 'url'])]\n",
    "    headers = [\n",
    "        \"Recipe\", \"Category\", \"Servings\", \"Yield\", \"Rating\", \"Rating Count\",\n",
    "        \"Ingredients\", \"Directions\", \"Url\"\n",
    "    ]\n",
    "\n",
    "    from sklearn.feature_extraction.text import TfidfVectorizer\n",
    "    from sklearn.neighbors import NearestNeighbors\n",
    "\n",
    "    joblib.dump(kNN, 'model.pkl')\n",
    "    ingr_rec = open('model.pkl', 'rb')\n",
    "    kNN = joblib.load(ingr_rec)\n",
    "    \n",
    "\n",
    "    if request.method == 'POST':\n",
    "        message = request.form['message']\n",
    "        data = [message]\n",
    "        vect = cv.transform(data).toarray()\n",
    "        my_prediction = kNN.predict(vect)\n",
    "    return render_template('result.html', prediction = my_prediction)\n",
    "\n",
    "if __name__ == '__main__':\n",
    "    app.run(debug=True)"
   ]
  },
  {
   "cell_type": "code",
   "execution_count": null,
   "id": "e7026153",
   "metadata": {
    "ExecuteTime": {
     "end_time": "2022-12-22T10:04:46.962020Z",
     "start_time": "2022-12-22T10:04:46.962020Z"
    }
   },
   "outputs": [],
   "source": [
    "from flask import Flask, render_template, url_for, request\n",
    "import pandas as pd\n",
    "import pickle\n",
    "import joblib\n",
    "\n",
    "app = Flask(__name__)\n",
    "\n",
    "\n",
    "@app.route('/')\n",
    "def home():\n",
    "    return render_template('home.html')\n",
    "\n",
    "\n",
    "@app.route('/predict', methods=['POST'])\n",
    "def predict():\n",
    "    input_ingr = input(\"What are your ingredients? \")\n",
    "\n",
    "    mask = data_.loc[sum([data_.ingr_cleaner.str.contains(input_ingr) for word in input_ingr]) > 0]\n",
    "\n",
    "    mask_df = mask[:3]\n",
    "\n",
    "    data_n = [(mask_df.name), (mask_df.category), (mask_df.servings),\n",
    "              (mask_df[\"yield\"]), (mask_df.rating), (mask_df.rating_count),\n",
    "              (mask_df.ingr_results), (mask_df.directions), (mask_df.url)]\n",
    "    headers = [\n",
    "        \"Recipe\", \"Category\", \"Servings\", \"Yield\", \"Rating\", \"Rating Count\",\n",
    "        \"Ingredients\", \"Directions\", \"Url\"\n",
    "    ]\n",
    "    print(\"\\nIf you like {}, you should try:\\n\\n\".format(input_ingr))\n",
    "    return pd.DataFrame(data_n, headers)\n",
    "\n",
    "    if request.method == 'POST':\n",
    "        message = request.form['message']\n",
    "        data = [message]\n",
    "        vect = cv.transform(data).toarray()\n",
    "        my_prediction = clf.predict(vect)\n",
    "    return render_template('result.html', prediction=my_prediction)\n",
    "\n",
    "\n",
    "if __name__ == '__main__':\n",
    "    app.run(debug=True)"
   ]
  },
  {
   "cell_type": "code",
   "execution_count": null,
   "id": "63798a00",
   "metadata": {
    "ExecuteTime": {
     "end_time": "2022-12-22T15:11:57.313955Z",
     "start_time": "2022-12-22T15:11:57.294312Z"
    }
   },
   "outputs": [],
   "source": [
    "pd.set_option('display.max_colwidth', 0)"
   ]
  },
  {
   "cell_type": "code",
   "execution_count": null,
   "id": "6ff3e8b5",
   "metadata": {
    "ExecuteTime": {
     "end_time": "2022-12-22T15:47:24.776329Z",
     "start_time": "2022-12-22T15:47:12.112925Z"
    }
   },
   "outputs": [],
   "source": [
    "import dataframe_image as dfi\n",
    "data_dfda_ta_df = recipe_filter_sys()\n",
    "\n",
    "dfi.export(data_dfda_ta_df, \"tofu_rice.png\")"
   ]
  },
  {
   "cell_type": "code",
   "execution_count": null,
   "id": "1e61e4b9",
   "metadata": {
    "ExecuteTime": {
     "end_time": "2022-12-22T16:41:47.007620Z",
     "start_time": "2022-12-22T16:41:43.191311Z"
    }
   },
   "outputs": [],
   "source": [
    "recipe_filter_sys()"
   ]
  },
  {
   "cell_type": "code",
   "execution_count": null,
   "id": "c51dae82",
   "metadata": {
    "ExecuteTime": {
     "end_time": "2022-12-22T16:37:09.047627Z",
     "start_time": "2022-12-22T16:37:06.712057Z"
    },
    "scrolled": false
   },
   "outputs": [],
   "source": [
    "recipe_ingredient_recom_input()"
   ]
  },
  {
   "cell_type": "code",
   "execution_count": null,
   "id": "095571f3",
   "metadata": {
    "ExecuteTime": {
     "end_time": "2022-12-22T16:33:11.558933Z",
     "start_time": "2022-12-22T16:32:48.864573Z"
    }
   },
   "outputs": [],
   "source": [
    "recipe_ingredient_recom_input()"
   ]
  },
  {
   "cell_type": "code",
   "execution_count": null,
   "id": "bc126ba7",
   "metadata": {},
   "outputs": [],
   "source": []
  }
 ],
 "metadata": {
  "kernelspec": {
   "display_name": "Python 3 (ipykernel)",
   "language": "python",
   "name": "python3"
  },
  "language_info": {
   "codemirror_mode": {
    "name": "ipython",
    "version": 3
   },
   "file_extension": ".py",
   "mimetype": "text/x-python",
   "name": "python",
   "nbconvert_exporter": "python",
   "pygments_lexer": "ipython3",
   "version": "3.9.13"
  },
  "toc": {
   "base_numbering": 1,
   "nav_menu": {},
   "number_sections": true,
   "sideBar": true,
   "skip_h1_title": false,
   "title_cell": "Table of Contents",
   "title_sidebar": "Contents",
   "toc_cell": false,
   "toc_position": {
    "height": "100px",
    "left": "127px",
    "top": "165.125px",
    "width": "399px"
   },
   "toc_section_display": true,
   "toc_window_display": false
  },
  "varInspector": {
   "cols": {
    "lenName": 16,
    "lenType": 16,
    "lenVar": 40
   },
   "kernels_config": {
    "python": {
     "delete_cmd_postfix": "",
     "delete_cmd_prefix": "del ",
     "library": "var_list.py",
     "varRefreshCmd": "print(var_dic_list())"
    },
    "r": {
     "delete_cmd_postfix": ") ",
     "delete_cmd_prefix": "rm(",
     "library": "var_list.r",
     "varRefreshCmd": "cat(var_dic_list()) "
    }
   },
   "types_to_exclude": [
    "module",
    "function",
    "builtin_function_or_method",
    "instance",
    "_Feature"
   ],
   "window_display": false
  }
 },
 "nbformat": 4,
 "nbformat_minor": 5
}
